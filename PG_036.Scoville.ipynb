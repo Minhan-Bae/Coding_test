{
 "metadata": {
  "language_info": {
   "codemirror_mode": {
    "name": "ipython",
    "version": 3
   },
   "file_extension": ".py",
   "mimetype": "text/x-python",
   "name": "python",
   "nbconvert_exporter": "python",
   "pygments_lexer": "ipython3",
   "version": "3.9.2"
  },
  "orig_nbformat": 2,
  "kernelspec": {
   "name": "python392jvsc74a57bd038740d3277777e2cd7c6c2cc9d8addf5118fdf3f82b1b39231fd12aeac8aee8b",
   "display_name": "Python 3.9.2 64-bit"
  }
 },
 "nbformat": 4,
 "nbformat_minor": 2,
 "cells": [
  {
   "source": [
    "프로그래머스/연습문제/더 맵게"
   ],
   "cell_type": "markdown",
   "metadata": {}
  },
  {
   "source": [
    "나의 풀이"
   ],
   "cell_type": "markdown",
   "metadata": {}
  },
  {
   "cell_type": "code",
   "execution_count": 1,
   "metadata": {},
   "outputs": [
    {
     "output_type": "execute_result",
     "data": {
      "text/plain": [
       "2"
      ]
     },
     "metadata": {},
     "execution_count": 1
    }
   ],
   "source": [
    "# 첫번째 시도\n",
    "\n",
    "scoville = [1, 2, 3, 9, 10, 12]\n",
    "K = 7\n",
    "count=0\n",
    "scoville.sort(reverse=True)\n",
    "\n",
    "while min(scoville)<K:\n",
    "    i = scoville.pop()\n",
    "    j = scoville.pop()\n",
    "    scoville.append(i+(j*2))\n",
    "\n",
    "    scoville.sort(reverse=True)\n",
    "    count+=1\n",
    "    if len(scoville)==1 and min(scoville)<K:\n",
    "        count = -1\n",
    "count\n",
    "## min을 사용하는것으로 인해 시간복잡도가 증가하여 효율성 테스트에서 시간초과 실패가 뜨는것으로 판단하여 두번째 코드 작성 시도"
   ]
  },
  {
   "cell_type": "code",
   "execution_count": 2,
   "metadata": {},
   "outputs": [
    {
     "output_type": "execute_result",
     "data": {
      "text/plain": [
       "2"
      ]
     },
     "metadata": {},
     "execution_count": 2
    }
   ],
   "source": [
    "# 두번째 시도\n",
    "# Heapq 미사용 /  이전에 배웠던 [-1], [-2]를 사용 / count+= 대신 리스트의 크기변화를 통해 리턴\n",
    "\n",
    "def solution(scoville,K):\n",
    "    length = len(scoville)\n",
    "    scoville.sort(reverse=True)\n",
    "    while scoville[-1]<K:\n",
    "        scoville[-2]*=2+scoville[-1]\n",
    "        scoville.pop()\n",
    "        scoville.sort(reverse=True)\n",
    "    if len(scoville)==1 and scoville[-1]<K:\n",
    "        return -1\n",
    "    else:\n",
    "        return length-len(scoville)\n",
    "\n",
    "# Code test\n",
    "scoville, K = [1, 2, 3, 9, 10, 12],7\n",
    "solution(scoville,K)\n",
    "\n",
    "## 런타임 에러!!!!"
   ]
  },
  {
   "cell_type": "code",
   "execution_count": 3,
   "metadata": {},
   "outputs": [
    {
     "output_type": "execute_result",
     "data": {
      "text/plain": [
       "2"
      ]
     },
     "metadata": {},
     "execution_count": 3
    }
   ],
   "source": [
    "# N-1번째 시도\n",
    "# Heapq 미사용 /  while-if,else 사용\n",
    "def solution(s,K):\n",
    "    length = len(s)\n",
    "    while s[0]<K:\n",
    "        s[1]=scoville[1]*2+scoville[0]\n",
    "        s.pop(0)\n",
    "        s.sort()\n",
    "    if len(scoville)==1 and scoville[0]<K:\n",
    "        return -1\n",
    "    else:\n",
    "        return length-len(scoville)\n",
    "\n",
    "# Code test\n",
    "scoville, K = [1, 2, 3, 9, 10, 12],7\n",
    "solution(scoville,K)\n",
    "\n",
    "## 대다수가 맞았으나, 4가지 테스트케이스에서 런타임 에러 발생"
   ]
  },
  {
   "cell_type": "code",
   "execution_count": 4,
   "metadata": {},
   "outputs": [
    {
     "output_type": "execute_result",
     "data": {
      "text/plain": [
       "2"
      ]
     },
     "metadata": {},
     "execution_count": 4
    }
   ],
   "source": [
    "# N번째 시도\n",
    "# Heapq 사용 /  while-try,except 사용\n",
    "import heapq as hq \n",
    "def solution(scoville,K):\n",
    "    heap = []\n",
    "    for i in scoville:\n",
    "        hq.heappush(heap,i)\n",
    "\n",
    "    count = 0\n",
    "    while heap[0]<K:\n",
    "        try:\n",
    "            hq.heappush(heap, hq.heappop(heap) + (hq.heappop(heap)*2))\n",
    "        except IndexError:\n",
    "            return -1\n",
    "        count += 1\n",
    "    return count\n",
    "\n",
    "# Code test\n",
    "scoville, K = [1, 2, 3, 9, 10, 12],7\n",
    "solution(scoville,K)"
   ]
  },
  {
   "cell_type": "code",
   "execution_count": 5,
   "metadata": {},
   "outputs": [
    {
     "output_type": "execute_result",
     "data": {
      "text/plain": [
       "2"
      ]
     },
     "metadata": {},
     "execution_count": 5
    }
   ],
   "source": [
    "# Heapq 미사용 / while-try,except 사용\n",
    "def solution(s,K):\n",
    "    s.sort()\n",
    "    count = 0\n",
    "    while s[0]<K:\n",
    "        try:\n",
    "            s[1]=s[1]*2+s[0]\n",
    "            s.pop(0)\n",
    "            s.sort()\n",
    "        except IndexError:\n",
    "            return -1\n",
    "        count+=1\n",
    "    return count\n",
    "\n",
    "# Code test\n",
    "scoville, K = [1, 2, 3, 9, 10, 12],7\n",
    "solution(scoville,K)\n",
    "\n",
    "## 자동으로 정렬이 가능한 heap을 미사용함으로써 초기 및 while문이 반복될 때마다 sort를 사용하기에 시간복잡도 증가로 인해 효율성 테스트 실패가 발생한 것으로 판단"
   ]
  }
 ]
}