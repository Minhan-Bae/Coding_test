{
 "metadata": {
  "language_info": {
   "codemirror_mode": {
    "name": "ipython",
    "version": 3
   },
   "file_extension": ".py",
   "mimetype": "text/x-python",
   "name": "python",
   "nbconvert_exporter": "python",
   "pygments_lexer": "ipython3",
   "version": "3.9.5"
  },
  "orig_nbformat": 2,
  "kernelspec": {
   "name": "python395jvsc74a57bd01e91a7d8e4864e2473b15ec9625848ab694e742002a8329d532293588fb63e50",
   "display_name": "Python 3.9.5 64-bit"
  }
 },
 "nbformat": 4,
 "nbformat_minor": 2,
 "cells": [
  {
   "source": [
    "프로그래머스/연습문제/땅따먹기"
   ],
   "cell_type": "markdown",
   "metadata": {}
  },
  {
   "cell_type": "code",
   "execution_count": 7,
   "metadata": {},
   "outputs": [
    {
     "output_type": "execute_result",
     "data": {
      "text/plain": [
       "16"
      ]
     },
     "metadata": {},
     "execution_count": 7
    }
   ],
   "source": [
    "def solution(land):    \n",
    "    for i in range(1,len(land)):\n",
    "        for j in range(4):\n",
    "            land[i][j] = max(land[i-1][:j] + land[i-1][j+1:]) +  land[i][j]\n",
    "    return max(land[i])\n",
    "\n",
    "# Code tset\n",
    "land = [[1,2,3,5],[5,6,7,8],[4,3,2,1]]\n",
    "solution(land)"
   ]
  },
  {
   "cell_type": "code",
   "execution_count": null,
   "metadata": {},
   "outputs": [],
   "source": []
  }
 ]
}