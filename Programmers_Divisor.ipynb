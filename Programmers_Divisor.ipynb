{
 "metadata": {
  "language_info": {
   "codemirror_mode": {
    "name": "ipython",
    "version": 3
   },
   "file_extension": ".py",
   "mimetype": "text/x-python",
   "name": "python",
   "nbconvert_exporter": "python",
   "pygments_lexer": "ipython3",
   "version": "3.9.5"
  },
  "orig_nbformat": 2,
  "kernelspec": {
   "name": "python395jvsc74a57bd0b2a729f8c35134cc3b30d6bab9c36c11fed8b199554f94213cb446f0e1dd4432",
   "display_name": "Python 3.9.5 64-bit ('crolling': virtualenvwrapper)"
  }
 },
 "nbformat": 4,
 "nbformat_minor": 2,
 "cells": [
  {
   "source": [
    "나의 풀이"
   ],
   "cell_type": "markdown",
   "metadata": {}
  },
  {
   "cell_type": "code",
   "execution_count": 18,
   "metadata": {},
   "outputs": [
    {
     "output_type": "execute_result",
     "data": {
      "text/plain": [
       "43"
      ]
     },
     "metadata": {},
     "execution_count": 18
    }
   ],
   "source": [
    "def solution(left,right):\n",
    "    sort = []\n",
    "    for i in range(left,right+1):\n",
    "        count = 0\n",
    "        for j in range(1,i+1):\n",
    "            if i%j == 0:\n",
    "                count +=1\n",
    "        if count%2 == 0:\n",
    "            sort.append(i)\n",
    "        else:\n",
    "            sort.append(-i)\n",
    "    return sum(sort)\n",
    "\n",
    "# Code test\n",
    "left, right = 13, 17\n",
    "solution(left,right)"
   ]
  }
 ]
}