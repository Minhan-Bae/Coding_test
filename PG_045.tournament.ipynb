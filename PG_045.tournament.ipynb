{
 "metadata": {
  "language_info": {
   "codemirror_mode": {
    "name": "ipython",
    "version": 3
   },
   "file_extension": ".py",
   "mimetype": "text/x-python",
   "name": "python",
   "nbconvert_exporter": "python",
   "pygments_lexer": "ipython3",
   "version": "3.9.5"
  },
  "orig_nbformat": 2,
  "kernelspec": {
   "name": "python395jvsc74a57bd02ab1d3f9e0014640d99cf6d832ed8e0625ffbbe36dbcdb7680f5fab989ac3797",
   "display_name": "Python 3.9.5 64-bit"
  },
  "metadata": {
   "interpreter": {
    "hash": "2ab1d3f9e0014640d99cf6d832ed8e0625ffbbe36dbcdb7680f5fab989ac3797"
   }
  }
 },
 "nbformat": 4,
 "nbformat_minor": 2,
 "cells": [
  {
   "source": [
    "프로그래머스/연습문제/예상 대진표"
   ],
   "cell_type": "markdown",
   "metadata": {}
  },
  {
   "cell_type": "code",
   "execution_count": null,
   "metadata": {},
   "outputs": [],
   "source": [
    "def solution(n,a,b):\n",
    "    if n/2 in range(min([a,b]),max([a,b])):\n",
    "        cnt = 0\n",
    "        while n!=1:\n",
    "            n/=2\n",
    "            cnt+=1\n",
    "        return cnt\n",
    "    else:\n",
    "        return solution(n/2,a,b)"
   ]
  },
  {
   "cell_type": "code",
   "execution_count": 14,
   "metadata": {},
   "outputs": [],
   "source": [
    "n,a,b = 2,2,1\n",
    "def solution(n,a,b):\n",
    "    cnt = 0\n",
    "    if n/2 in range(min([a,b]),max([a,b])):\n",
    "        cnt = len(format(n,'b'))-1\n",
    "        return cnt\n",
    "    else:\n",
    "        return solution(n/2,a,b)\n",
    "\n",
    "answer = div(n,a,b)\n",
    "\n",
    "## 테스트는 맞으나, 런타임 에러 발생"
   ]
  },
  {
   "cell_type": "code",
   "execution_count": 1,
   "metadata": {},
   "outputs": [],
   "source": [
    "def solution(n,a,b):\n",
    "    cnt = 0\n",
    "    if n/2 in range(min([a,b]),max([a,b])):\n",
    "        cnt = len(format(n,'b'))-1\n",
    "        return cnt\n",
    "    else:\n",
    "        return solution(n/2,a,b)\n",
    "n,a,b = 8,4,7\n",
    "answer = solution(n,a,b)"
   ]
  },
  {
   "cell_type": "code",
   "execution_count": 6,
   "metadata": {},
   "outputs": [],
   "source": [
    "def solution(n,a,b):\n",
    "    while n>1:\n",
    "        if n==2:\n",
    "            return 1\n",
    "        elif n/2 in range(min([a,b]),max([a,b])):\n",
    "            return len(format(n,'b'))-1\n",
    "        else:\n",
    "            n/=2\n",
    "\n",
    "n,a,b = 4,3,4\n",
    "answer = solution(n,a,b)"
   ]
  },
  {
   "cell_type": "code",
   "execution_count": 9,
   "metadata": {},
   "outputs": [],
   "source": [
    "def solution(n,a,b):\n",
    "    answer = 0\n",
    "\n",
    "    while a != b:\n",
    "        a, b = (a+1)//2, (b+1)//2\n",
    "        answer += 1\n",
    "\n",
    "    return answer"
   ]
  }
 ]
}