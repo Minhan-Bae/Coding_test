{
 "metadata": {
  "language_info": {
   "codemirror_mode": {
    "name": "ipython",
    "version": 3
   },
   "file_extension": ".py",
   "mimetype": "text/x-python",
   "name": "python",
   "nbconvert_exporter": "python",
   "pygments_lexer": "ipython3",
   "version": "3.9.5"
  },
  "orig_nbformat": 2,
  "kernelspec": {
   "name": "python395jvsc74a57bd01e91a7d8e4864e2473b15ec9625848ab694e742002a8329d532293588fb63e50",
   "display_name": "Python 3.9.5 64-bit"
  }
 },
 "nbformat": 4,
 "nbformat_minor": 2,
 "cells": [
  {
   "source": [
    "이것이 코딩테스트다/그래프 탐색 알고리즘:DFS/BFS\n",
    "\n",
    "ㆍ 탐색(Search)이란 많은 양의 데이터 중에서 원하는 데이터를 찾는 과정을 말한다.\n",
    "\n",
    "ㆍ 대표적인 그래프 탐색 알고리즘으로는 DFS와 BFS가 있다.\n",
    "\n",
    "    ㆍ DFS/BFS는 코딩 테스트에서 매우 자주 등장하는 유형"
   ],
   "cell_type": "markdown",
   "metadata": {}
  },
  {
   "source": [
    "스택 자료구조\n",
    "\n",
    "ㆍ 먼저 들어온 데이터가 나중에 나가는 형식(선입후출)의 자료구조\n",
    "\n",
    "ㆍ 입구와 출구가 동일한 형태로 스택을 시각화 할 수 있다.\n",
    "\n",
    "        ex) 스택 구현 예제"
   ],
   "cell_type": "markdown",
   "metadata": {}
  },
  {
   "cell_type": "code",
   "execution_count": 1,
   "metadata": {},
   "outputs": [
    {
     "output_type": "stream",
     "name": "stdout",
     "text": [
      "[1, 3, 2, 5]\n[5, 2, 3, 1]\n"
     ]
    }
   ],
   "source": [
    "stack = []\n",
    "\n",
    "# 삽입(5)-삽입(2)-삽입(3)-삽입(7)-삭제()-삽입(1)-삽입(4)-삭제()\n",
    "stack.append(5)\n",
    "stack.append(2)\n",
    "stack.append(3)\n",
    "stack.append(7)\n",
    "stack.pop()\n",
    "stack.append(1)\n",
    "stack.append(4)\n",
    "stack.pop()\n",
    "\n",
    "print(stack[::-1])  # 최상단 원소부터 출력\n",
    "print(stack)        # 최하단 원소부터 출력"
   ]
  },
  {
   "source": [
    "큐 자료구조\n",
    "\n",
    "ㆍ 먼저 들어온 데이터가 먼저 나가는 형식(선입선출)의 자료구조\n",
    "\n",
    "ㆍ 입구와 출구가 모두 뚫려 있는 터널과 같은 형태로 시각화 할 수 있다.\n",
    "\n",
    "        ex) 큐 구현 예제"
   ],
   "cell_type": "markdown",
   "metadata": {}
  },
  {
   "cell_type": "code",
   "execution_count": 2,
   "metadata": {},
   "outputs": [
    {
     "output_type": "stream",
     "name": "stdout",
     "text": [
      "[4, 1, 7, 3]\n[3, 7, 1, 4]\n"
     ]
    }
   ],
   "source": [
    "stack = []\n",
    "\n",
    "# 삽입(5)-삽입(2)-삽입(3)-삽입(7)-삭제()-삽입(1)-삽입(4)-삭제()\n",
    "stack.append(5)\n",
    "stack.append(2)\n",
    "stack.append(3)\n",
    "stack.append(7)\n",
    "stack.pop(0)\n",
    "stack.append(1)\n",
    "stack.append(4)\n",
    "stack.pop(0)\n",
    "\n",
    "print(stack[::-1])  # 최상단 원소부터 출력\n",
    "print(stack)        # 최하단 원소부터 출력\n",
    "\n",
    "## 리스트를 이용하는 방법은 가능하나, 시간복잡도가 높아 deque라이브러리를 사용하는 것을 권장"
   ]
  },
  {
   "cell_type": "code",
   "execution_count": null,
   "metadata": {},
   "outputs": [],
   "source": [
    "from collections import deque\n",
    "\n",
    "queue = deque()\n",
    "\n",
    "# 삽입(5)-삽입(2)-삽입(3)-삽입(7)-삭제()-삽입(1)-삽입(4)-삭제()\n",
    "queue.append(5)\n",
    "queue.append(2)\n",
    "queue.append(3)\n",
    "queue.append(7)\n",
    "queue.popleft()\n",
    "queue.append(1)\n",
    "queue.append(4)\n",
    "queue.popleft()\n",
    "\n",
    "print(queue)        # 먼저 들어온 순서대로 출력\n",
    "queue.reverse()     # 역순으로 바꾸기\n",
    "print(queue)        # 나중에 들어온 원소부터 출력"
   ]
  }
 ]
}