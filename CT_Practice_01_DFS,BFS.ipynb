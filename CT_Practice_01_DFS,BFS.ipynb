{
 "metadata": {
  "language_info": {
   "codemirror_mode": {
    "name": "ipython",
    "version": 3
   },
   "file_extension": ".py",
   "mimetype": "text/x-python",
   "name": "python",
   "nbconvert_exporter": "python",
   "pygments_lexer": "ipython3",
   "version": "3.9.5"
  },
  "orig_nbformat": 2,
  "kernelspec": {
   "name": "python395jvsc74a57bd01e91a7d8e4864e2473b15ec9625848ab694e742002a8329d532293588fb63e50",
   "display_name": "Python 3.9.5 64-bit"
  }
 },
 "nbformat": 4,
 "nbformat_minor": 2,
 "cells": [
  {
   "source": [
    "이것이 코딩테스트다 예제문제: 음료수 얼려 먹기"
   ],
   "cell_type": "markdown",
   "metadata": {}
  },
  {
   "source": [
    "입력 조건\n",
    "\n",
    "- 첫번째 줄에 얼음 틀의 세로 길이 N과 가로 길이 M이 주어진다.(1<=N, M<=1000)\n",
    "\n",
    "- 두번째 줄부터 N+1번째 줄까지 얼음 틀의 형태가 주어진다.\n",
    "\n",
    "- 이때 구멍이 뚫려있는 부분은 0, 그렇지 않은 부분은 1이다.\n",
    "\n",
    "출력 조건\n",
    "\n",
    "- 한번에 만들 수 있는 아이스크림의 개수를 출력"
   ],
   "cell_type": "markdown",
   "metadata": {}
  },
  {
   "source": [
    "1. 특정한 지점의 주변 상,하,좌,우를 살펴본 뒤 주변 지점 중에 값이 '0'이면서 아직 방문하지 않은 지점이 있다면 해당 지점을 방문\n",
    "\n",
    "2. 방문한 지점에서 다다시 상,하,좌,우를 살펴보면서 방문을 진행하는 과정을 반복하면, 연결된 모든 지점을 방문할 수 있다.\n",
    "\n",
    "3. 모든 노드에 대하여 1~2번의 과정을 반복하며, 반복하지 않은 지점의 수를 카운트한다."
   ],
   "cell_type": "markdown",
   "metadata": {}
  },
  {
   "cell_type": "code",
   "execution_count": 3,
   "metadata": {},
   "outputs": [
    {
     "output_type": "execute_result",
     "data": {
      "text/plain": [
       "3"
      ]
     },
     "metadata": {},
     "execution_count": 3
    }
   ],
   "source": [
    "tray = [[0,0,1,1,0],[0,0,0,1,1],[1,1,1,1,1],[0,0,0,0,0]]\n",
    "n,m = 4,5\n",
    "# DFS 메서드 정의\n",
    "def dfs(x, y):\n",
    "    # 예외 처리\n",
    "    if x < 0 or x >= n or y < 0 or y >= m:\n",
    "        return False\n",
    "    if tray[x][y] == 0:\n",
    "        tray[x][y] = 1\n",
    "        dfs(x-1, y)\n",
    "        dfs(x, y-1)\n",
    "        dfs(x+1, y)\n",
    "        dfs(x, y+1)\n",
    "        return True\n",
    "    return False \n",
    "\n",
    "result = 0\n",
    "for i in range(n):\n",
    "    for j in range(m):\n",
    "        if dfs(i,j) == True:\n",
    "            result += 1\n",
    "\n",
    "result\n",
    "     "
   ]
  }
 ]
}