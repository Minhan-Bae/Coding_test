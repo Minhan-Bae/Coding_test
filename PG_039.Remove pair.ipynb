{
 "metadata": {
  "language_info": {
   "codemirror_mode": {
    "name": "ipython",
    "version": 3
   },
   "file_extension": ".py",
   "mimetype": "text/x-python",
   "name": "python",
   "nbconvert_exporter": "python",
   "pygments_lexer": "ipython3",
   "version": "3.9.5"
  },
  "orig_nbformat": 2,
  "kernelspec": {
   "name": "python395jvsc74a57bd0b2a729f8c35134cc3b30d6bab9c36c11fed8b199554f94213cb446f0e1dd4432",
   "display_name": "Python 3.9.5 64-bit ('crolling': virtualenvwrapper)"
  }
 },
 "nbformat": 4,
 "nbformat_minor": 2,
 "cells": [
  {
   "source": [
    "프로그래멋/연습문제/짝지어 제거하기"
   ],
   "cell_type": "markdown",
   "metadata": {}
  },
  {
   "source": [
    "나의 풀이"
   ],
   "cell_type": "markdown",
   "metadata": {}
  },
  {
   "cell_type": "code",
   "execution_count": 2,
   "metadata": {},
   "outputs": [
    {
     "output_type": "execute_result",
     "data": {
      "text/plain": [
       "0"
      ]
     },
     "metadata": {},
     "execution_count": 2
    }
   ],
   "source": [
    "# N-1번째 도전\r\n",
    "\r\n",
    "def solution(s):\r\n",
    "# Pre-Processing\r\n",
    "    list_s = list(s)\r\n",
    "    text_1,text_2 = list(set(s))    # 중복 제거 후 두개의 알파벳을 text_1,2로 지정\r\n",
    "\r\n",
    "    index_1 = list(filter(lambda i: list_s[i] == text_1, range(len(list_s))))   # 리스트의 알파벳 위치를 리스트로 표현\r\n",
    "    index_2 = list(filter(lambda i: list_s[i] == text_2, range(len(list_s))))\r\n",
    "\r\n",
    "# Data-Processing\r\n",
    "    if len(index_1)%2 != 0 or len(index_2)%2 != 0:\r\n",
    "        return 0\r\n",
    "    for i,j in zip(range(1,len(index_1)),range(1,len(index_2))):\r\n",
    "        if (index_1[i]-index_1[i-1])%2 != 0 and (index_2[j]-index_2[j-1])%2 != 0:\r\n",
    "            return  1\r\n",
    "        else:\r\n",
    "            return 0\r\n",
    "            break\r\n",
    "\r\n",
    "# Code test\r\n",
    "s = 'cdcdcd'\r\n",
    "solution(s)   \r\n",
    "\r\n",
    "## 값은 성공적이나, 런타임 에러 발생..!!!!! --> 각각의 문자들의 위치를 찾아서 하는 방법을 구사해보았지만, 순차적으로 입력하여 제거하는 것이 효율성 측면에서 우수한 것으로 판단"
   ]
  },
  {
   "cell_type": "code",
   "execution_count": 36,
   "metadata": {},
   "outputs": [
    {
     "output_type": "execute_result",
     "data": {
      "text/plain": [
       "1"
      ]
     },
     "metadata": {},
     "execution_count": 36
    }
   ],
   "source": [
    "# N번째 도전\n",
    "\n",
    "def solution(s):\n",
    "    list_s = []\n",
    "    for i in s:\n",
    "        if len(list_s)==0 or list_s[-1] !=i:\n",
    "            list_s.append(i)\n",
    "        else:\n",
    "            list_s.pop()        \n",
    "    return 1 if len(list_s)==0 else 0\n",
    "\n",
    "# Code test\n",
    "s = 'baabaa'\n",
    "solution(s)"
   ]
  }
 ]
}