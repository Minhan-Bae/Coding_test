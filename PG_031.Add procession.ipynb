{
 "metadata": {
  "language_info": {
   "codemirror_mode": {
    "name": "ipython",
    "version": 3
   },
   "file_extension": ".py",
   "mimetype": "text/x-python",
   "name": "python",
   "nbconvert_exporter": "python",
   "pygments_lexer": "ipython3",
   "version": "3.9.5"
  },
  "orig_nbformat": 2,
  "kernelspec": {
   "name": "crolling",
   "display_name": "Python 3.9.5 64-bit"
  }
 },
 "nbformat": 4,
 "nbformat_minor": 2,
 "cells": [
  {
   "source": [
    "프로그래머스/연습문제/행렬의 덧셈"
   ],
   "cell_type": "markdown",
   "metadata": {}
  },
  {
   "source": [
    "나의 풀이"
   ],
   "cell_type": "markdown",
   "metadata": {}
  },
  {
   "cell_type": "code",
   "execution_count": 20,
   "metadata": {},
   "outputs": [
    {
     "output_type": "execute_result",
     "data": {
      "text/plain": [
       "[[4], [6]]"
      ]
     },
     "metadata": {},
     "execution_count": 20
    }
   ],
   "source": [
    "# 첫번째 코드\n",
    "\n",
    "def solution(arr1,arr2):\n",
    "    for j in range(len(arr1)):\n",
    "        for k in range(len(arr1[0])):\n",
    "            arr1[j][k]+=arr2[j][k]\n",
    "    return arr1\n",
    "\n",
    "# Code test\n",
    "arr1 = [[1],[2]]\t\n",
    "arr2 = [[3],[4]]\t\n",
    "solution(arr1,arr2)"
   ]
  },
  {
   "cell_type": "code",
   "execution_count": 23,
   "metadata": {},
   "outputs": [
    {
     "output_type": "execute_result",
     "data": {
      "text/plain": [
       "[[4], [6]]"
      ]
     },
     "metadata": {},
     "execution_count": 23
    }
   ],
   "source": [
    "# 두번째 코드 - zip을 이용한 한줄 처리\n",
    "\n",
    "def solution(arr1,arr2):\n",
    "    return [[k+l for k,l in zip(i,j)] for i,j in zip(arr1,arr2)]\n",
    "\n",
    "# Code test\n",
    "arr1 = [[1],[2]]\t\n",
    "arr2 = [[3],[4]]\t\n",
    "solution(arr1,arr2)"
   ]
  }
 ]
}