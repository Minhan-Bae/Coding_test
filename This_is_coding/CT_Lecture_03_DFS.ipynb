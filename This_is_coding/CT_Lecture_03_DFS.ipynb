{
 "metadata": {
  "language_info": {
   "codemirror_mode": {
    "name": "ipython",
    "version": 3
   },
   "file_extension": ".py",
   "mimetype": "text/x-python",
   "name": "python",
   "nbconvert_exporter": "python",
   "pygments_lexer": "ipython3",
   "version": "3.9.5"
  },
  "orig_nbformat": 2,
  "kernelspec": {
   "name": "python395jvsc74a57bd01e91a7d8e4864e2473b15ec9625848ab694e742002a8329d532293588fb63e50",
   "display_name": "Python 3.9.5 64-bit"
  }
 },
 "nbformat": 4,
 "nbformat_minor": 2,
 "cells": [
  {
   "source": [
    "이것이 코딩테스트다/DFS(Depth-First Search)\n",
    "\n",
    "ㆍ DFS는 깊이 우선 탐색으로도 부르며, 그래프에서 깊은 부분을 우선적으로 탐색하는 알고리즘이다.\n",
    "\n",
    "ㆍ DFS는 스택 자료구조(혹은 재귀 함수)를 이용하며, 구체적인 동작 과정은 다음과 같다.\n",
    "\n",
    "        1. 탐색 시작 노드를 스택에 삽입하고 방문 처리를 한다.\n",
    "\n",
    "        2. 스택의 최상단 노드에 방문하지 않은 인접한 노드가 하나라도 있으면, 그 노드를 스택에 넣고 방문처리한다. 방문하지 않은 인접 노드가 없으면 스택에서 최상단 노드를 꺼낸다.\n",
    "\n",
    "        3. 더이상 2번의 과정을 수행할 수 없을 때 까지 반복한다. "
   ],
   "cell_type": "markdown",
   "metadata": {}
  },
  {
   "source": [
    "    DFS 구현 예제"
   ],
   "cell_type": "markdown",
   "metadata": {}
  },
  {
   "cell_type": "code",
   "execution_count": 15,
   "metadata": {},
   "outputs": [
    {
     "output_type": "stream",
     "name": "stdout",
     "text": [
      "12768345"
     ]
    }
   ],
   "source": [
    "# DFS 메서드 정의\n",
    "def dfs(graph, v, visited):\n",
    "    # 현재 노드를 방문 처리\n",
    "    visited[v] = True\n",
    "    print(v, end='')\n",
    "    # 현재 노드와 연결된 다른 노드를 재귀적으로 방문\n",
    "    for i in graph[v]:\n",
    "        if not visited[i]:\n",
    "            dfs(graph, i, visited)\n",
    "\n",
    "# 각 노드가 연결된 정보를 표현(2차원 리스트)\n",
    "graph = [[], [2,3,8], [1,7], [1,4,5], [3,5], [3,4], [7], [2,6,8], [1,7]]\n",
    "# index(0)은 사용하지 않으나 처리를 위해 표현 각 노드가 연결된 정보를 표현(2차원 리스트)\n",
    "\n",
    "# 각 노드가 방문된 정보를 표현(1차원 리스트)\n",
    "visited = [False] * 9\n",
    "\n",
    "# 정의된 DFS 함수 호출\n",
    "dfs(graph, 1, visited)\n",
    "# 1-2-7-6-8-3-4-5"
   ]
  }
 ]
}