{
 "metadata": {
  "language_info": {
   "codemirror_mode": {
    "name": "ipython",
    "version": 3
   },
   "file_extension": ".py",
   "mimetype": "text/x-python",
   "name": "python",
   "nbconvert_exporter": "python",
   "pygments_lexer": "ipython3",
   "version": "3.9.5"
  },
  "orig_nbformat": 2,
  "kernelspec": {
   "name": "python395jvsc74a57bd01e91a7d8e4864e2473b15ec9625848ab694e742002a8329d532293588fb63e50",
   "display_name": "Python 3.9.5 64-bit"
  }
 },
 "nbformat": 4,
 "nbformat_minor": 2,
 "cells": [
  {
   "source": [
    "프로그래머스/연습문제/프린터"
   ],
   "cell_type": "markdown",
   "metadata": {}
  },
  {
   "source": [
    "1. 인쇄 대기목록의 가장 앞에 있는 문서(J)를 대기목록에서 꺼냅니다.\n",
    "\n",
    "2. 나머지 인쇄 대기목록에서 J보다 중요도가 높은 문서가 한 개라도 존재하면, J를 대기목록의 가장 마지막에 넣습니다.\n",
    "\n",
    "3. 그렇지 않으면 J를 인쇄합니다."
   ],
   "cell_type": "markdown",
   "metadata": {}
  },
  {
   "cell_type": "code",
   "execution_count": 38,
   "metadata": {},
   "outputs": [
    {
     "output_type": "execute_result",
     "data": {
      "text/plain": [
       "1"
      ]
     },
     "metadata": {},
     "execution_count": 38
    }
   ],
   "source": [
    "priorities = [2,1,3,2]\n",
    "location = 2\n",
    "def solution(priorities,location):\n",
    "    from collections import deque\n",
    "\n",
    "    result = 0\n",
    "    queue = deque()\n",
    "    for i,v in enumerate(priorities):\n",
    "        queue.append((v,i))    \n",
    "    while True:\n",
    "        J = queue.popleft()\n",
    "        if queue and max(queue)[0] > J[0]:\n",
    "            queue.append(J)\n",
    "        else:\n",
    "            result += 1\n",
    "            if J[1] == location:\n",
    "                break\n",
    "    return result\n",
    "\n",
    "solution(priorities,location)\n",
    "\n"
   ]
  },
  {
   "cell_type": "code",
   "execution_count": 30,
   "metadata": {},
   "outputs": [],
   "source": [
    "queue = deque([(i,v) for i,v in enumerate(priorities)])\n"
   ]
  }
 ]
}