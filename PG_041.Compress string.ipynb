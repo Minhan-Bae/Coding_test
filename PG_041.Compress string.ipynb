{
 "metadata": {
  "language_info": {
   "codemirror_mode": {
    "name": "ipython",
    "version": 3
   },
   "file_extension": ".py",
   "mimetype": "text/x-python",
   "name": "python",
   "nbconvert_exporter": "python",
   "pygments_lexer": "ipython3",
   "version": "3.9.5"
  },
  "orig_nbformat": 2,
  "kernelspec": {
   "name": "crolling",
   "display_name": "Python 3.9.5 64-bit"
  }
 },
 "nbformat": 4,
 "nbformat_minor": 2,
 "cells": [
  {
   "source": [
    "프로그래머스/연습문제/문자열 압축"
   ],
   "cell_type": "markdown",
   "metadata": {}
  },
  {
   "cell_type": "code",
   "execution_count": 1,
   "metadata": {},
   "outputs": [],
   "source": [
    "# 같은 문자끼리 뭉치기\n",
    "s = \"aabbaccc\"\n",
    "\n",
    "array = []\n",
    "for i in s:\n",
    "    if len(array)==0 or i != array[-1][0]:\n",
    "        array.append([i,1])\n",
    "    else:\n",
    "        array[-1][1]+=1"
   ]
  },
  {
   "cell_type": "code",
   "execution_count": 3,
   "metadata": {},
   "outputs": [],
   "source": [
    "# 문자열을 N 개로 쪼개기\n",
    "\n",
    "# s = \"ababcdcdababcdcd\"\n",
    "s = \"abcabcdede\"\n",
    "array = []\n",
    "j=3\n",
    "for i in s:\n",
    "    if len(array)==0 or len(array[-1][0])==j:\n",
    "        array.append([i,1])\n",
    "    else:\n",
    "        array[-1][0]+=i\n",
    "sums = []\n",
    "count = 0\n",
    "for i in array:\n",
    "    if len(sums)==0 or i[0] != sums[-1][0]:\n",
    "        sums.append([i[0],1])\n",
    "    else:\n",
    "        sums[-1][1]+=1\n",
    "\n",
    "for q in sums:\n",
    "    count+=len(q[0])\n",
    "    if q[1] > 1:\n",
    "        count+=1"
   ]
  },
  {
   "cell_type": "code",
   "execution_count": 4,
   "metadata": {},
   "outputs": [
    {
     "output_type": "stream",
     "name": "stdout",
     "text": [
      "7\n9\n8\n14\n17\n"
     ]
    }
   ],
   "source": [
    "# 1차 완료된 코드\n",
    "\n",
    "def solution(s):\n",
    "    answer = []\n",
    "    for i in range(1,len(s)+1):\n",
    "        array = []\n",
    "        sumss = []\n",
    "        count = 0\n",
    "        \n",
    "        for j in s:\n",
    "            if len(array)==0 or len(array[-1][0])==i:\n",
    "                array.append([j,1])\n",
    "            else:\n",
    "                array[-1][0]+=j\n",
    "        \n",
    "\n",
    "        for k in array:\n",
    "            if len(sumss)==0 or k[0] != sumss[-1][0]:\n",
    "                sumss.append([k[0],1])\n",
    "            else:\n",
    "                sumss[-1][1]+=1\n",
    "        \n",
    "        for q in sumss:\n",
    "            count+=len(q[0])\n",
    "            if q[1] > 1:\n",
    "                count+=1\n",
    "        answer.append(count)\n",
    "    return min(answer)\n",
    "\n",
    "print(solution(\"aabbaccc\"))\n",
    "print(solution(\"ababcdcdababcdcd\"))\n",
    "print(solution(\"abcabcdede\"))\n",
    "print(solution(\"abcabcabcabcdededededede\"))\n",
    "print(solution(\"xababcdcdababcdcd\"))\n",
    "\n",
    "## 입출력 예시는 모두 맞으나 채점에서 72/100점을 받음.. 이유를 찾아야 함"
   ]
  }
 ]
}