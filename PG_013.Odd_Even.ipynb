{
 "metadata": {
  "language_info": {
   "codemirror_mode": {
    "name": "ipython",
    "version": 3
   },
   "file_extension": ".py",
   "mimetype": "text/x-python",
   "name": "python",
   "nbconvert_exporter": "python",
   "pygments_lexer": "ipython3",
   "version": "3.9.5"
  },
  "orig_nbformat": 2,
  "kernelspec": {
   "name": "python395jvsc74a57bd0b2a729f8c35134cc3b30d6bab9c36c11fed8b199554f94213cb446f0e1dd4432",
   "display_name": "Python 3.9.5 64-bit ('crolling': virtualenvwrapper)"
  }
 },
 "nbformat": 4,
 "nbformat_minor": 2,
 "cells": [
  {
   "source": [
    "프로그래머스/연습문제/짝수와 홀수\n",
    "\n",
    "나의 풀이"
   ],
   "cell_type": "markdown",
   "metadata": {}
  },
  {
   "cell_type": "code",
   "execution_count": 2,
   "metadata": {},
   "outputs": [],
   "source": [
    "def solution(num):\n",
    "    return \"Even\" if num%2==0 else \"Odd\""
   ]
  }
 ]
}