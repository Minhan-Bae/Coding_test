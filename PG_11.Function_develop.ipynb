{
 "metadata": {
  "language_info": {
   "codemirror_mode": {
    "name": "ipython",
    "version": 3
   },
   "file_extension": ".py",
   "mimetype": "text/x-python",
   "name": "python",
   "nbconvert_exporter": "python",
   "pygments_lexer": "ipython3",
   "version": "3.9.5"
  },
  "orig_nbformat": 2,
  "kernelspec": {
   "name": "crolling",
   "display_name": "Python 3.9.5 64-bit"
  }
 },
 "nbformat": 4,
 "nbformat_minor": 2,
 "cells": [
  {
   "source": [
    "프로그래머스/스택 큐/기능개발"
   ],
   "cell_type": "markdown",
   "metadata": {}
  },
  {
   "source": [
    "나의 풀이"
   ],
   "cell_type": "markdown",
   "metadata": {}
  },
  {
   "cell_type": "code",
   "execution_count": 1,
   "metadata": {},
   "outputs": [],
   "source": [
    "# 첫번째 시도\n",
    "\n",
    "# Input value\n",
    "\n",
    "progresses = [93, 30, 55]\n",
    "speeds = [1, 30, 5]\n",
    "\n",
    "# Pre-processing\n",
    "result = []\n",
    "\n",
    "# Data-processing\n",
    "for i,j in zip(progresses,speeds):          # 작업 진도와 작업 속도를 관계하여 반복문 시행\n",
    "    count = 0                               # 소요되는 일수에 대한 초기값 설정\n",
    "    while True:\n",
    "        i += j                              # 작업 진도에 속도를 일수만큼 더해 100이 될 때까지 반복\n",
    "        count += 1\n",
    "        if i >= 100:\n",
    "            result.append(count)            # 이에 따른 소요 일수를 리턴함\n",
    "            break\n",
    "\n",
    "## 소요되는 count 까지는 계산했으나, 그 이후 각 관계를 return 하는 방법을 찾지 못함..##"
   ]
  },
  {
   "cell_type": "code",
   "execution_count": 8,
   "metadata": {},
   "outputs": [],
   "source": [
    "# 두번째 시도 // list[-1]의 성질에 대한 참고 후 수행\n",
    "\n",
    "# Input value\n",
    "progresses = [95, 90, 99, 99, 80, 99]\t\n",
    "speeds = [1, 1, 1, 1, 1, 1]\n",
    "\n",
    "# Data Processing\n",
    "def solution(progresses,speeds):\n",
    "    result = []\n",
    "    for i,j in zip(progresses,speeds):      # 작업 진도와 작업 속도를 반복문 시행\n",
    "        if len(result)==0 or result[-1][0]<-((i-100)//j):   # 시작값(len(result)==0)이거나 이전 작업의 소요일수가 지금 작업의 소요일수에 비해 작으면 append[value, count]를 수행\n",
    "            result.append([-((i-100)//j),1])\n",
    "        else:                                               # 아닐 경우 이전 count에 +1을 함\n",
    "            result[-1][1]+=1\n",
    "    return [answer[1] for answer in result]"
   ]
  }
 ]
}