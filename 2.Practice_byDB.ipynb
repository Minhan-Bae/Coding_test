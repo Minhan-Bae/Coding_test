{
 "metadata": {
  "language_info": {
   "codemirror_mode": {
    "name": "ipython",
    "version": 3
   },
   "file_extension": ".py",
   "mimetype": "text/x-python",
   "name": "python",
   "nbconvert_exporter": "python",
   "pygments_lexer": "ipython3",
   "version": "3.9.5"
  },
  "orig_nbformat": 2,
  "kernelspec": {
   "name": "crolling",
   "display_name": "Python 3.9.5 64-bit"
  }
 },
 "nbformat": 4,
 "nbformat_minor": 2,
 "cells": [
  {
   "source": [
    "이것이 코딩테스트다 실전문제 2: 큰 수의 법칙"
   ],
   "cell_type": "markdown",
   "metadata": {}
  },
  {
   "source": [
    "나의 풀이"
   ],
   "cell_type": "markdown",
   "metadata": {}
  },
  {
   "cell_type": "code",
   "execution_count": 3,
   "metadata": {},
   "outputs": [],
   "source": [
    "# Input value\n",
    "N, M, K = 5,8,3 # N: 배열의 크기 / M: 숫자가 더해지는 횟수 / K: 같은숫자가 연속할 수 있는 횟수\n",
    "List = [2,4,5,4,6]\n",
    "\n",
    "# Output value : List에 있는 원소를 최대 K번 연속해서 사용하여 M회 더했을 때 나오는 합\n",
    "    # Ex) 6+6+6+5+6+6+6+5 = 46\n",
    "\n",
    "# Pre-Processing\n",
    "List.sort()                         # List를 값의 크기에 맞추어 정렬\n",
    "result = 0                          # 결과값 초기 설정\n",
    "\n",
    "# Data-Processing\n",
    "while M > 0:                        # 최대 더하는 회수가 0이 되기 전 까지\n",
    "    for i in range(K):              # 가장 큰 원소를 K번 더하기\n",
    "        result += List[-1]          # List[-1]: 정렬된 리스트의 뒤에서 첫번째 원소 즉, 가장 큰 값\n",
    "        M -= 1                          # 해당 과정을 구동하는 동안 횟수 차감\n",
    "    result += List[-2]              # 가장 큰 원소를 K번 더한 후 횟수 초기화를 위해 두번째로 큰 값 합산\n",
    "    M -= 1                              # 해당 과정을 거치는 동안 횟수 차감"
   ]
  },
  {
   "source": [
    "책의 풀이"
   ],
   "cell_type": "markdown",
   "metadata": {}
  },
  {
   "cell_type": "code",
   "execution_count": 9,
   "metadata": {},
   "outputs": [],
   "source": [
    "# Input value\n",
    "N, M, K = 5,8,3\n",
    "\n",
    "List = [2,4,5,4,6]\n",
    "\n",
    "# Pre-Processing\n",
    "List.sort()                         # List 정렬\n",
    "First = List[N-1]                   # 가장 큰 수\n",
    "Second = List[N-2]                  # 두번째로 큰 수\n",
    "result = 0                          # 결과값 초기 설정\n",
    "\n",
    "while True:\n",
    "    for i in range(K):              # 가장 큰 원소를 K번 더하기\n",
    "        if M == 0:                  # M이 0 이라면 반복문 탈출\n",
    "            break\n",
    "        result += First             \n",
    "        M -= 1                          # 해당 과정을 구동하는 동안 횟수 차감\n",
    "    if M == 0:                      # M이 0 이라면 반복문 탈출\n",
    "        break\n",
    "    result += Second                # 두번째로 큰 원소 더하기\n",
    "    M -= 1                              # 해당 과정을 구동하는 동안 횟수 차감"
   ]
  }
 ]
}