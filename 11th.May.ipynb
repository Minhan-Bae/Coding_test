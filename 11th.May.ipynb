{
 "metadata": {
  "language_info": {
   "codemirror_mode": {
    "name": "ipython",
    "version": 3
   },
   "file_extension": ".py",
   "mimetype": "text/x-python",
   "name": "python",
   "nbconvert_exporter": "python",
   "pygments_lexer": "ipython3",
   "version": "3.9.5"
  },
  "orig_nbformat": 2,
  "kernelspec": {
   "name": "python395jvsc74a57bd0b2a729f8c35134cc3b30d6bab9c36c11fed8b199554f94213cb446f0e1dd4432",
   "display_name": "Python 3.9.5 64-bit ('crolling': virtualenvwrapper)"
  }
 },
 "nbformat": 4,
 "nbformat_minor": 2,
 "cells": [
  {
   "cell_type": "code",
   "execution_count": 20,
   "metadata": {},
   "outputs": [],
   "source": [
    "# 같은 숫자는 싫어\n",
    "\n",
    "arr = [1,1,3,3,0,1,1] #answer = [1,3,0,1]\n",
    "answer = []\n",
    "def solution(arr):\n",
    "    for i in range(len(arr)-1):\n",
    "        if arr[i]!=arr[i+1]:\n",
    "            answer.append(arr[i])\n",
    "    answer.append(arr[len(arr)-1])\n",
    "    return answer\n",
    "\n",
    "solution(arr)\n"
   ]
  },
  {
   "cell_type": "code",
   "execution_count": 12,
   "metadata": {},
   "outputs": [
    {
     "output_type": "execute_result",
     "data": {
      "text/plain": [
       "4"
      ]
     },
     "metadata": {},
     "execution_count": 12
    }
   ],
   "source": [
    "# 예산\n",
    "\n",
    "# d = [1,3,2,5,4]\n",
    "# budget = 9      #answer = 3\n",
    "\n",
    "d = [2,2,3,3]\n",
    "budget = 10\n",
    "\n",
    "def solution(d, budget):\n",
    "    result = []\n",
    "    sorted_d = sorted(d)\n",
    "\n",
    "    for i in sorted_d:\n",
    "        if i <= budget:\n",
    "            result.append(i)\n",
    "            budget -= i\n",
    "    return len(result)\n",
    "\n",
    "solution(d,budget)"
   ]
  }
 ]
}