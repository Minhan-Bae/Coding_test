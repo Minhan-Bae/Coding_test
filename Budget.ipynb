{
 "metadata": {
  "language_info": {
   "codemirror_mode": {
    "name": "ipython",
    "version": 3
   },
   "file_extension": ".py",
   "mimetype": "text/x-python",
   "name": "python",
   "nbconvert_exporter": "python",
   "pygments_lexer": "ipython3",
   "version": 3
  },
  "orig_nbformat": 2
 },
 "nbformat": 4,
 "nbformat_minor": 2,
 "cells": [
  {
   "source": [
    "나의 풀이"
   ],
   "cell_type": "markdown",
   "metadata": {}
  },
  {
   "cell_type": "code",
   "execution_count": null,
   "metadata": {},
   "outputs": [],
   "source": [
    "# First success\n",
    "\n",
    "d = [2,2,3,3]\n",
    "budget = 10\n",
    "\n",
    "def solution(d, budget):\n",
    "    result = []\n",
    "    sorted_d = sorted(d)\n",
    "\n",
    "    for i in sorted_d:\n",
    "        if i <= budget:\n",
    "            result.append(i)\n",
    "            budget -= i\n",
    "    return len(result)\n",
    "\n",
    "solution(d,budget)"
   ]
  }
 ]
}