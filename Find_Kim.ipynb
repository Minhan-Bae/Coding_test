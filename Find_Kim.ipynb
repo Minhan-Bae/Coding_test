{
 "metadata": {
  "language_info": {
   "codemirror_mode": {
    "name": "ipython",
    "version": 3
   },
   "file_extension": ".py",
   "mimetype": "text/x-python",
   "name": "python",
   "nbconvert_exporter": "python",
   "pygments_lexer": "ipython3",
   "version": "3.9.5"
  },
  "orig_nbformat": 2,
  "kernelspec": {
   "name": "python395jvsc74a57bd0b2a729f8c35134cc3b30d6bab9c36c11fed8b199554f94213cb446f0e1dd4432",
   "display_name": "Python 3.9.5 64-bit ('crolling': virtualenvwrapper)"
  }
 },
 "nbformat": 4,
 "nbformat_minor": 2,
 "cells": [
  {
   "source": [
    "나의 풀이"
   ],
   "cell_type": "markdown",
   "metadata": {}
  },
  {
   "cell_type": "code",
   "execution_count": 4,
   "metadata": {},
   "outputs": [
    {
     "output_type": "stream",
     "name": "stdout",
     "text": [
      "\"김서방은 1에 있다\"\n"
     ]
    }
   ],
   "source": [
    "# 첫번째 시도\n",
    "def solution(seoul):\n",
    "    for i in range(len(seoul)):\n",
    "      if seoul[i] == 'Kim':\n",
    "        return print('\"김서방은 ',i,'에 있다\"',sep='')\n",
    "\n",
    "seoul = [\"Jane\", \"Kim\"]\t\n",
    "solution(seoul)\n",
    "\n",
    "# 기본적인 for if 를 사용해서 했으나, 오답\""
   ]
  },
  {
   "cell_type": "code",
   "execution_count": 2,
   "metadata": {},
   "outputs": [
    {
     "output_type": "stream",
     "name": "stdout",
     "text": [
      "\"김서방은 1에 있다\"\n"
     ]
    }
   ],
   "source": [
    "# 두번째 시도\n",
    "seoul = [\"Jane\", \"Kim\"]\n",
    "print('\"김서방은 ',seoul.index('Kim'),'에 있다\"',sep='')\n",
    "\n",
    "# 출력은 맞으나 억지끼워맞춤이라 프로그래머스에서는 null 발생"
   ]
  },
  {
   "cell_type": "code",
   "execution_count": 16,
   "metadata": {},
   "outputs": [
    {
     "output_type": "stream",
     "name": "stdout",
     "text": [
      "김서방은 1에 있다\n"
     ]
    }
   ],
   "source": [
    "# 최종 시도\n",
    "seoul = [\"Jane\", \"Kim\"]\n",
    "print(\"김서방은 {}에 있다\".format(seoul.index('Kim'))"
   ]
  }
 ]
}