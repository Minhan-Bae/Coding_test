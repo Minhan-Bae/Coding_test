{
 "metadata": {
  "language_info": {
   "codemirror_mode": {
    "name": "ipython",
    "version": 3
   },
   "file_extension": ".py",
   "mimetype": "text/x-python",
   "name": "python",
   "nbconvert_exporter": "python",
   "pygments_lexer": "ipython3",
   "version": "3.9.5"
  },
  "orig_nbformat": 2,
  "kernelspec": {
   "name": "crolling",
   "display_name": "Python 3.9.5 64-bit"
  }
 },
 "nbformat": 4,
 "nbformat_minor": 2,
 "cells": [
  {
   "source": [
    "프로그래머스/연습문제/이상한 문자 만들기"
   ],
   "cell_type": "markdown",
   "metadata": {}
  },
  {
   "source": [
    "나의 풀이"
   ],
   "cell_type": "markdown",
   "metadata": {}
  },
  {
   "cell_type": "code",
   "execution_count": 52,
   "metadata": {},
   "outputs": [
    {
     "output_type": "execute_result",
     "data": {
      "text/plain": [
       "'TrY       HeLlO WoRrLd '"
      ]
     },
     "metadata": {},
     "execution_count": 52
    }
   ],
   "source": [
    "# 첫번째 코드 - 문제 해결 후 다른 풀이 참고하여 수정\n",
    "\n",
    "def solution(s):\n",
    "    answer = []\n",
    "\n",
    "    split_s = s.split(' ')                  # 1) s.split()이 아니라 s.split(\" \")으로 해야 공백 1개를 기준으로 split할 수 있다...                     \n",
    "    for i in split_s:\n",
    "        sort = \"\"\n",
    "        for j in range(len(i)):\n",
    "            if j == 0 or j % 2 == 0:\n",
    "                sort+=i[j].upper()\n",
    "            else:\n",
    "                sort+=i[j].lower()\n",
    "        answer.append(sort)\n",
    "    return \" \".join(answer)                 # 2) 최종적으로 각 split 된 단어 or 공백에 ' ' 을 추가하여 문자열을 만들기 때문에..\n",
    "\n",
    "# Code test\n",
    "s = \"try  hello worrld \"\n",
    "solution(s)\n",
    "\n",
    "## 단어 마다 요구 조건을 만족시켰으나, 문제에서 명시된 '각 단어는 하나 이상의 공백문자로 구성되어있다'는 부분에 대한 해결이 되지 않음.. --> 위의 1) 2) 수정을 통해 성공"
   ]
  },
  {
   "cell_type": "code",
   "execution_count": 37,
   "metadata": {},
   "outputs": [
    {
     "output_type": "execute_result",
     "data": {
      "text/plain": [
       "'TrY HeLlO WoRrLd '"
      ]
     },
     "metadata": {},
     "execution_count": 37
    }
   ],
   "source": [
    "# N 번째 시도\n",
    "\n",
    "def solution(s):\n",
    "# Pre-Processing    \n",
    "    list_s = list(s)                        # 단어 사이에 존재하는 공백 문자를 하나의 원소로 정의하기 위해 문자열을 리스트화 수행\n",
    "    answer = ''\n",
    "    count = 0\n",
    "# Data-Processing    \n",
    "    for i in list_s:                        # 각 원소마다 카운트를 하되, 공백문자의 경우 카운트를 초기화 하여 단어에만 대소문자 변환이 적용되도록 형성\n",
    "        if i == ' ':                            # 원소가 공백문자일 경우 최종결과에 추가를 하되, 카운트를 초기화\n",
    "            answer+=i\n",
    "            count = 0\n",
    "        else:                                   # 공백문자가 아닐 경우, 카운트가 0 또는 짝수 일 경우 대문자로 변환 하며, 카운트 +1\n",
    "            if count == 0 or count%2 == 0:\n",
    "                answer+=i.upper()\n",
    "                count+=1\n",
    "            else:                               # 카운트가 홀수 일 경우 소문자로 변환, 카운트 +1\n",
    "                answer+=i.lower()\n",
    "                count+=1   \n",
    "    return answer\n",
    "\n",
    "# Code test\n",
    "s = \"try hello worrld \"\n",
    "solution(s)"
   ]
  },
  {
   "source": [
    "다른 사람의 풀이"
   ],
   "cell_type": "markdown",
   "metadata": {}
  },
  {
   "cell_type": "code",
   "execution_count": 44,
   "metadata": {},
   "outputs": [
    {
     "output_type": "execute_result",
     "data": {
      "text/plain": [
       "'TrY HeLlO WoRrLd '"
      ]
     },
     "metadata": {},
     "execution_count": 44
    }
   ],
   "source": [
    "def solution(s):\n",
    "    return \" \".join(map(lambda x: \"\".join([a.lower() if i % 2 else a.upper() for i, a in enumerate(x)]), s.split(\" \")))\n",
    "\n",
    "# Code test\n",
    "s = \"try hello worrld \"\n",
    "solution(s)\n",
    "\n",
    "## map(lambda x)를 이용하였으며, enumerate를 이용해 반복횟수를 카운팅하여 코드 작성"
   ]
  }
 ]
}