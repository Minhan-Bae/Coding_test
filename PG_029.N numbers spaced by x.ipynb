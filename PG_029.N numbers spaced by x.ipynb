{
 "metadata": {
  "language_info": {
   "codemirror_mode": {
    "name": "ipython",
    "version": 3
   },
   "file_extension": ".py",
   "mimetype": "text/x-python",
   "name": "python",
   "nbconvert_exporter": "python",
   "pygments_lexer": "ipython3",
   "version": "3.9.5"
  },
  "orig_nbformat": 2,
  "kernelspec": {
   "name": "crolling",
   "display_name": "Python 3.9.5 64-bit"
  }
 },
 "nbformat": 4,
 "nbformat_minor": 2,
 "cells": [
  {
   "source": [
    "프로그래머스/연습문제/x만큼 간격이 있는 n개의 숫자"
   ],
   "cell_type": "markdown",
   "metadata": {}
  },
  {
   "source": [
    "나의 풀이"
   ],
   "cell_type": "markdown",
   "metadata": {}
  },
  {
   "cell_type": "code",
   "execution_count": 4,
   "metadata": {},
   "outputs": [
    {
     "output_type": "execute_result",
     "data": {
      "text/plain": [
       "[-4, -8]"
      ]
     },
     "metadata": {},
     "execution_count": 4
    }
   ],
   "source": [
    "# 첫번째 코드\n",
    "\n",
    "def solution(x,n):\n",
    "    y = x\n",
    "    answer = []\n",
    "    while n > 0:\n",
    "        answer.append(y)\n",
    "        y+=x\n",
    "        n-=1\n",
    "    return answer\n",
    "\n",
    "# Code test\n",
    "\n",
    "x, n = -4,2\n",
    "solution(x,n)"
   ]
  },
  {
   "cell_type": "code",
   "execution_count": 7,
   "metadata": {},
   "outputs": [
    {
     "output_type": "execute_result",
     "data": {
      "text/plain": [
       "[-4, -8]"
      ]
     },
     "metadata": {},
     "execution_count": 7
    }
   ],
   "source": [
    "# 두번째 코드\n",
    "\n",
    "def solution(x,n):\n",
    "    return list(range(x, x*(n+1), x))\n",
    "\n",
    "# Code test\n",
    "\n",
    "x, n = -4,2\n",
    "solution(x,n)\n",
    "\n",
    "## 등차수열의 일반항 이용 list(range(x부터 x*(n+1)까지 x 간격으로))"
   ]
  }
 ]
}