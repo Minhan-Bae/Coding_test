{
 "metadata": {
  "language_info": {
   "codemirror_mode": {
    "name": "ipython",
    "version": 3
   },
   "file_extension": ".py",
   "mimetype": "text/x-python",
   "name": "python",
   "nbconvert_exporter": "python",
   "pygments_lexer": "ipython3",
   "version": "3.9.2"
  },
  "orig_nbformat": 2,
  "kernelspec": {
   "name": "python392jvsc74a57bd038740d3277777e2cd7c6c2cc9d8addf5118fdf3f82b1b39231fd12aeac8aee8b",
   "display_name": "Python 3.9.2 64-bit"
  }
 },
 "nbformat": 4,
 "nbformat_minor": 2,
 "cells": [
  {
   "source": [
    "나의 풀이"
   ],
   "cell_type": "markdown",
   "metadata": {}
  },
  {
   "cell_type": "code",
   "execution_count": 4,
   "metadata": {},
   "outputs": [
    {
     "output_type": "execute_result",
     "data": {
      "text/plain": [
       "[4, 3, 2, 1, 5]"
      ]
     },
     "metadata": {},
     "execution_count": 4
    }
   ],
   "source": [
    "# First success\n",
    "\n",
    "def solution(N,stages):\n",
    "    do_it = len(stages)\n",
    "    rank = {}\n",
    "    srank = {}\n",
    "    answer = {}\n",
    "    for i in range(0,N):\n",
    "        if do_it == 0:\n",
    "            rank[i+1] = 0\n",
    "        else:\n",
    "            rank[i+1] = stages.count(i+1)/do_it\n",
    "            do_it -= stages.count(i+1)\n",
    "\n",
    "    srank = dict(sorted(rank.items(),key=lambda x : x[1],reverse=True))\n",
    "    answer = srank.keys()\n",
    "    return list(answer)    \n",
    "\n",
    "# Code test\n",
    "N, stages = 5, [2,1,2,6,2,4,3,3]\n",
    "\n",
    "solution(N,stages)\n"
   ]
  },
  {
   "cell_type": "code",
   "execution_count": 10,
   "metadata": {},
   "outputs": [
    {
     "output_type": "execute_result",
     "data": {
      "text/plain": [
       "[3, 4, 2, 1, 5]"
      ]
     },
     "metadata": {},
     "execution_count": 10
    }
   ],
   "source": [
    "# Code diet #1\n",
    "\n",
    "def solution(N,stages):\n",
    "    do_it = len(stages)\n",
    "    rank = {}\n",
    "    for i in range(0,N):\n",
    "        if do_it == 0:\n",
    "            rank[i+1] = 0\n",
    "        else:\n",
    "            rank[i+1] = stages.count(i+1)/do_it\n",
    "            do_it -= stages.count(i+1)\n",
    "\n",
    "    return sorted(rank, key=lambda x : rank[x],reverse=True)\n",
    "\n",
    "# Code test\n",
    "N, stages = 5, [2,1,2,6,2,4,3,3]\n",
    "\n",
    "solution(N,stages)\n"
   ]
  }
 ]
}