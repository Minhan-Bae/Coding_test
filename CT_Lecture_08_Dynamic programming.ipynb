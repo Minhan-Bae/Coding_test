{
 "metadata": {
  "language_info": {
   "codemirror_mode": {
    "name": "ipython",
    "version": 3
   },
   "file_extension": ".py",
   "mimetype": "text/x-python",
   "name": "python",
   "nbconvert_exporter": "python",
   "pygments_lexer": "ipython3",
   "version": "3.9.5"
  },
  "orig_nbformat": 2,
  "kernelspec": {
   "name": "python395jvsc74a57bd01e91a7d8e4864e2473b15ec9625848ab694e742002a8329d532293588fb63e50",
   "display_name": "Python 3.9.5 64-bit"
  }
 },
 "nbformat": 4,
 "nbformat_minor": 2,
 "cells": [
  {
   "source": [
    "이것이 코딩 테스트다/DP(Dynamic processing)\n",
    "\n",
    "ㆍ 다이나믹 프로그래밍은 메모리를 적절히 사용하여 수행 시간 효율성을 비약적으로 향상시키는 방법이다.\n",
    "\n",
    "ㆍ 이미 계산된 결과(작은문제)는 별도의 메모리 영역에 저장하여 다시 계산하지 않도록 한다.\n",
    "\n",
    "ㆍ 다이나믹 프로그래밍의 구현은 일반적으로 두 가지 방법(탑다운, 바텀업)으로 구성된다."
   ],
   "cell_type": "markdown",
   "metadata": {}
  },
  {
   "source": [
    "ㆍ 다이나믹 프로그래밍은 동적 계획법이라고도 부른다.\n",
    "\n",
    "- 자료구조에서 동적 할당(Dynamic Allocation)은 '프로그램이 실행되는 도중에 실행에 필요한 메모리를 할당하는 기법'을 의미한다.\n",
    "\n",
    "- 반면에 다이나믹 프로그래밍에서 'Dynamic'은 별다른 의미 없이 사용된 단어다."
   ],
   "cell_type": "markdown",
   "metadata": {}
  },
  {
   "source": [
    "1. 최적 부분 구조(Optimal Substructure)\n",
    "\n",
    "    - 큰 문제를 작은 문제로 나눌 수 있으며, 작은 문제의 답을 모아서 큰 문제를 해결한다.\n",
    "        \n",
    "2. 중복되는 부분 문제(Overlapping Subproblem)\n",
    "\n",
    "    - 동일한 작은 문제를 반복적으로 해결해야 한다."
   ],
   "cell_type": "markdown",
   "metadata": {}
  },
  {
   "source": [
    "0. 피보나치 수열\n",
    "\n",
    "    - 피보나치 수열은 다이나믹 프로그래밍으로 효과적으로 계산할 수 있다.\n",
    "\n",
    "    - a_n = a_n-1 + a_n-2, a_1 = 1 a_2 = 1\n",
    "\n",
    "    - 시간 복잡도 분석: O(2^N) _ 중복되는 부분 문제 발생으로 지수 시간 복잡도"
   ],
   "cell_type": "markdown",
   "metadata": {}
  },
  {
   "source": [
    "1. 피보나치 수열의 효율적인 해법: 다이나믹 프로그래밍\n",
    "\n",
    "    - 다이나믹 프로그래밍의 사용 조건을 만족하는지 확인한다.\n",
    "        \n",
    "        ㆍ 최적 부분 구조: 큰 문제를 작은 문제로 나눌 수 있다.\n",
    "\n",
    "        ㆍ 중복되는 부분 문제: 동일한 작은 문제를 반복적으로 해결한다.\n",
    "\n",
    "    - 메모이제이션(Memoization)\n",
    "\n",
    "        ㆍ 메모이제이션은 다이나믹 프로그래밍을 구현하는 방법 중 하나다.\n",
    "        \n",
    "        ㆍ 한번 계산한 결과를 메모리 공간에 메모하는 기법이다.\n",
    "\n",
    "            . 같은 문제를 다시 호출하면 메모했던 결과를 그대로 가져온다.\n",
    "\n",
    "            . 값을 기록해 놓는다는 점에서 캐싱(Cashing)이라고도 부른다.\n",
    "        \n"
   ],
   "cell_type": "markdown",
   "metadata": {}
  },
  {
   "source": [
    "2. 탑다운 vs 바텀업\n",
    "\n",
    "    - 탑다운(메모이제이션) 방식은 하향식이라고 하며, 바텀업 방식은 상향식이라 한다.\n",
    "    \n",
    "    - 다이나믹 프로그래밍의 전형적인 형태는 바텀업 방식이다.\n",
    "\n",
    "        ㆍ 결과 저장룡 리스트는 DP 테이블이라고 부른다.\n",
    "    \n",
    "    - 메모이제이션은 이전에 계산된 결과를 일시적으로 기록해 놓는 넓은 개념을 의미한다.\n",
    "\n",
    "        ㆍ 메모이제이션은 다이나믹 프로그래밍에 국한된 개념은 아니다."
   ],
   "cell_type": "markdown",
   "metadata": {}
  },
  {
   "cell_type": "code",
   "execution_count": 4,
   "metadata": {},
   "outputs": [
    {
     "output_type": "stream",
     "name": "stdout",
     "text": [
      "f(6) f(5) f(4) f(3) f(2) f(1) f(2) f(3) f(4) "
     ]
    },
    {
     "output_type": "execute_result",
     "data": {
      "text/plain": [
       "8"
      ]
     },
     "metadata": {},
     "execution_count": 4
    }
   ],
   "source": [
    "# 탑다운 다이나믹 프로그래밍을 이용한 피보나치 수열 소스\n",
    "\n",
    "# 한번 계산된 결과를 메모이제이션 하기 위한 리스트 초기화\n",
    "d = [0] * 100\n",
    "\n",
    "# 피보나치 함수를 재귀 함수로 구현(탑다운 다이나믹 프로그래밍)\n",
    "def fibo(x):\n",
    "    print('f('+str(x)+')',end=' ')\n",
    "    # 종료 조건(1 혹은 2일때 1을 반환)\n",
    "    if x == 1 or x == 2:\n",
    "        return 1\n",
    "    # 이미 계산한 적 있는 문제라면 그대로 반환\n",
    "    if d[x] != 0:\n",
    "        return d[x]\n",
    "    # 아직 계산하지 않은 문제라면 점화식에 따라서 피보나치 결과 반환\n",
    "    d[x] = fibo(x-1) + fibo(x-2)\n",
    "    return d[x]\n",
    "\n",
    "fibo(6)\n",
    "    "
   ]
  },
  {
   "cell_type": "code",
   "execution_count": 3,
   "metadata": {},
   "outputs": [
    {
     "output_type": "execute_result",
     "data": {
      "text/plain": [
       "218922995834555169026"
      ]
     },
     "metadata": {},
     "execution_count": 3
    }
   ],
   "source": [
    "# 바텀업 다이나믹 프로그래밍을 이용한 피보나치 수열 소스\n",
    "\n",
    "# 앞서 계산된 결과를 저장하기 위한 DP 테이블 초기화\n",
    "d = [0]*100\n",
    "\n",
    "# 첫번째 피보나치 수와 두번째 피보나치 수는 1\n",
    "d[1] = 1\n",
    "d[2] = 1\n",
    "\n",
    "n = 99\n",
    "# 피보나치 함수 반복문으로 구현 피보나치 함수 반복문으로 구현\n",
    "for i in range(3, n+1):\n",
    "    d[i] = d[i-1] + d[i-2]\n",
    "\n",
    "    d[n]\n",
    "for i in range(3, n+1):\n",
    "    d[i] = d[i-1] + d[i-2]\n",
    "\n",
    "d[n]"
   ]
  },
  {
   "source": [
    "다이나믹 프로그래밍 vs 분할 정복\n",
    "\n",
    "ㆍ 두 방법 모두 최적 부분 구조를 가질 때 사용 가능\n",
    "\n",
    "- 큰 문제를 작은 문제로 나눌 수 있으며, 작은 문제의 답을 모아서 큰 문제를 해결할 수 있는 상황\n",
    "\n",
    "ㆍ 다이나믹 프로그래밍과 분할 정복의 차이점: 부분 문제의 중복\n",
    "\n",
    "- 다이나믹 프로그래밍 문제에서는 각 부분 문제들이 서로 영향을 미치며 부분 문제가 중복된다.\n",
    "\n",
    "- 분할 정복 문제에서는 동일한 부분 문제가 반복적으로 계산되지 않는다."
   ],
   "cell_type": "markdown",
   "metadata": {}
  }
 ]
}