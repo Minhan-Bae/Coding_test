{
 "metadata": {
  "language_info": {
   "codemirror_mode": {
    "name": "ipython",
    "version": 3
   },
   "file_extension": ".py",
   "mimetype": "text/x-python",
   "name": "python",
   "nbconvert_exporter": "python",
   "pygments_lexer": "ipython3",
   "version": "3.9.5"
  },
  "orig_nbformat": 2,
  "kernelspec": {
   "name": "crolling",
   "display_name": "Python 3.9.5 64-bit"
  }
 },
 "nbformat": 4,
 "nbformat_minor": 2,
 "cells": [
  {
   "source": [
    "나의 풀이"
   ],
   "cell_type": "markdown",
   "metadata": {}
  },
  {
   "cell_type": "code",
   "execution_count": 8,
   "metadata": {},
   "outputs": [
    {
     "output_type": "execute_result",
     "data": {
      "text/plain": [
       "['#####', '# # #', '### #', '#  ##', '#####']"
      ]
     },
     "metadata": {},
     "execution_count": 8
    }
   ],
   "source": [
    "def solution(n,arr1,arr2):\n",
    "    list_arr1 = []\n",
    "    list_arr2 = []\n",
    "    answer = []\n",
    "\n",
    "    for i in range(len(arr1)):\n",
    "        arr1[i] = (format(arr1[i],'b'))\n",
    "        arr2[i] = (format(arr2[i],'b'))    \n",
    "        if len(arr1[i]) <n:\n",
    "            arr1[i] = (n-len(arr1[i]))*str(0)+arr1[i]\n",
    "        if len(arr2[i]) <n:\n",
    "            arr2[i] = (n-len(arr2[i]))*str(0)+arr2[i]\n",
    "        list_arr1.append(list(arr1[i]))\n",
    "        list_arr2.append(list(arr2[i]))\n",
    "\n",
    "    for i in range(n):\n",
    "        count = ''\n",
    "        for j in range(n):\n",
    "            if int(list_arr1[i][j]) + int(list_arr2[i][j]) >0:\n",
    "                count += '#'\n",
    "            else:\n",
    "                count += ' '\n",
    "        answer.append(count)\n",
    "    return answer\n",
    "\n",
    "# Code test\n",
    "\n",
    "n= 5\n",
    "arr1 = [9,20,28,18,11]\n",
    "arr2 = [30, 1, 21, 17, 28]\n",
    "\n",
    "solution(n,arr1,arr2)"
   ]
  }
 ]
}