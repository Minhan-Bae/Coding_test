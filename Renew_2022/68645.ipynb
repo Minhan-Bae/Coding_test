{
 "cells": [
  {
   "cell_type": "markdown",
   "metadata": {},
   "source": [
    "### **프로그래머스-삼각달팽이**"
   ]
  },
  {
   "cell_type": "code",
   "execution_count": 32,
   "metadata": {},
   "outputs": [],
   "source": [
    "# Hard coding\n",
    "\n",
    "n = 4\n",
    "array = [[0] * n for _ in range(n)]\n",
    "col, row  = -1, 0\n",
    "direction = 1\n",
    "start = 1\n",
    "sum_ = sum([i+1 for i in range(n)])\n",
    "answer = []\n",
    "\n",
    "while start<sum_:\n",
    "    for _ in range(n):\n",
    "        col+=direction\n",
    "        array[col][row]=start\n",
    "        start+=1\n",
    "    n-=1\n",
    "    for _ in range(n):\n",
    "        row+=direction\n",
    "        array[col][row]=start\n",
    "        start+=1\n",
    "    n-=1\n",
    "    for _ in range(n):\n",
    "        col-=direction\n",
    "        row-=direction\n",
    "        array[col][row]=start\n",
    "        start+=1\n",
    "        \n",
    "for i in array:\n",
    "    for j in i:\n",
    "        if j != 0:\n",
    "            answer.append(j)"
   ]
  },
  {
   "cell_type": "code",
   "execution_count": 44,
   "metadata": {},
   "outputs": [],
   "source": [
    "# Input\n",
    "n = 4\n",
    "\n",
    "# Solution\n",
    "def solution(n):\n",
    "    # Init\n",
    "    array = [[0]*n for _ in range(n)] # initial array\n",
    "    col, row = -1, 0 # initial location\n",
    "    \n",
    "    number = 1 # start number\n",
    "    sums = sum([i+1 for i in range(n)]) # limit number\n",
    "    \n",
    "    cnt = 0 # direction\n",
    "    answer = []\n",
    "\n",
    "    # Process\n",
    "    while number<=sums:\n",
    "        for _ in range(n):\n",
    "            if cnt%3==0: # Case 1\n",
    "                col+=1 \n",
    "            elif cnt%3==1: # Case 2\n",
    "                row+=1\n",
    "            else: # Case 3\n",
    "                col-=1\n",
    "                row-=1\n",
    "\n",
    "            array[col][row]=number\n",
    "            number+=1\n",
    "        n-=1\n",
    "        cnt += 1 # Change location\n",
    "    \n",
    "    # Print\n",
    "    for i in array:\n",
    "        for j in i:\n",
    "            if j != 0:\n",
    "                answer.append(j)\n",
    "    return answer"
   ]
  },
  {
   "cell_type": "code",
   "execution_count": 47,
   "metadata": {},
   "outputs": [
    {
     "data": {
      "text/plain": [
       "[1, 2, 9, 3, 10, 8, 4, 5, 6, 7]"
      ]
     },
     "execution_count": 47,
     "metadata": {},
     "output_type": "execute_result"
    }
   ],
   "source": [
    "solution(n)"
   ]
  }
 ],
 "metadata": {
  "interpreter": {
   "hash": "ac70e43cab2fc3bb67d3b589338c3957ed7729b797ea66f59b628197cc0d4123"
  },
  "kernelspec": {
   "display_name": "Python 3.8.0 64-bit ('tf2.4': conda)",
   "language": "python",
   "name": "python3"
  },
  "language_info": {
   "codemirror_mode": {
    "name": "ipython",
    "version": 3
   },
   "file_extension": ".py",
   "mimetype": "text/x-python",
   "name": "python",
   "nbconvert_exporter": "python",
   "pygments_lexer": "ipython3",
   "version": "3.8.0"
  },
  "orig_nbformat": 4
 },
 "nbformat": 4,
 "nbformat_minor": 2
}
