{
 "cells": [
  {
   "cell_type": "markdown",
   "metadata": {},
   "source": [
    "### **백준 - 달팽이**"
   ]
  },
  {
   "cell_type": "code",
   "execution_count": 5,
   "metadata": {},
   "outputs": [],
   "source": [
    "n = int(input())\n",
    "target = int(input())"
   ]
  },
  {
   "cell_type": "code",
   "execution_count": 6,
   "metadata": {},
   "outputs": [],
   "source": [
    "def solution(n, target):\n",
    "    array = [[0 for _ in range(n)] for _ in range(n)]\n",
    "\n",
    "    row, col = 0, -1\n",
    "    target_col, target_row = 0, 0\n",
    "    cnt = n**2\n",
    "    trans = 1\n",
    "\n",
    "    while n > 0:\n",
    "        for _ in range(n):\n",
    "            col += trans\n",
    "            array[col][row] = cnt\n",
    "            if cnt == target:\n",
    "                target_col, target_row = col+1, row+1\n",
    "            cnt -=1\n",
    "\n",
    "        n -= 1\n",
    "        for _ in range(n):\n",
    "            row += trans\n",
    "            array[col][row] = cnt\n",
    "            if cnt == target:\n",
    "                target_col, target_row = col+1, row+1\n",
    "            cnt -=1\n",
    "        trans *= -1\n",
    "    return array, target_col, target_row"
   ]
  },
  {
   "cell_type": "code",
   "execution_count": 7,
   "metadata": {},
   "outputs": [
    {
     "name": "stdout",
     "output_type": "stream",
     "text": [
      "49 26 27 28 29 30 31\n",
      "48 25 10 11 12 13 32\n",
      "47 24 9 2 3 14 33\n",
      "46 23 8 1 4 15 34\n",
      "45 22 7 6 5 16 35\n",
      "44 21 20 19 18 17 36\n",
      "43 42 41 40 39 38 37\n",
      "5 7\n"
     ]
    }
   ],
   "source": [
    "import sys\n",
    "sys.stdin.readline\n",
    "\n",
    "array, target_col, target_row = solution(n, target)\n",
    "for a in array:\n",
    "    print(*a)\n",
    "print(target_col, target_row)"
   ]
  }
 ],
 "metadata": {
  "interpreter": {
   "hash": "ac70e43cab2fc3bb67d3b589338c3957ed7729b797ea66f59b628197cc0d4123"
  },
  "kernelspec": {
   "display_name": "Python 3.8.0 64-bit ('tf2.4': conda)",
   "language": "python",
   "name": "python3"
  },
  "language_info": {
   "codemirror_mode": {
    "name": "ipython",
    "version": 3
   },
   "file_extension": ".py",
   "mimetype": "text/x-python",
   "name": "python",
   "nbconvert_exporter": "python",
   "pygments_lexer": "ipython3",
   "version": "3.8.0"
  },
  "orig_nbformat": 4
 },
 "nbformat": 4,
 "nbformat_minor": 2
}
