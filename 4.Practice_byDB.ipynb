{
 "metadata": {
  "language_info": {
   "codemirror_mode": {
    "name": "ipython",
    "version": 3
   },
   "file_extension": ".py",
   "mimetype": "text/x-python",
   "name": "python",
   "nbconvert_exporter": "python",
   "pygments_lexer": "ipython3",
   "version": "3.9.5"
  },
  "orig_nbformat": 2,
  "kernelspec": {
   "name": "crolling",
   "display_name": "Python 3.9.5 64-bit"
  }
 },
 "nbformat": 4,
 "nbformat_minor": 2,
 "cells": [
  {
   "source": [
    "이것이 코딩테스트다 실전문제 4: 1이 될 때까지"
   ],
   "cell_type": "markdown",
   "metadata": {}
  },
  {
   "source": [
    "나의 풀이"
   ],
   "cell_type": "markdown",
   "metadata": {}
  },
  {
   "cell_type": "code",
   "execution_count": 1,
   "metadata": {},
   "outputs": [],
   "source": [
    "# Input value\n",
    "N, K = 25, 3\n",
    "\n",
    "# Output value: N이 K로 나누어 떨어지면 K로 나누고, 아니면 -1 해서 N이 1이 되는 횟수\n",
    "\n",
    "# Pre-Processing\n",
    "count = 0\n",
    "\n",
    "# Data-Processing\n",
    "while True:                         # break 선언 전까지 Wihle 문 반복\n",
    "    if N % K == 0:                      # N이 K로 나누어 떨어지면 N / K\n",
    "        N /= K\n",
    "        count += 1                          # 해당 과정에 대한 카운트 +1\n",
    "    else:                               # If 의 조건에 맞지 않는 경우 N - 1\n",
    "        N -= 1                              \n",
    "        count += 1                          # 해당 과정에 대한 카운트 +1\n",
    "    if N == 1:                      # N 의 값이 1이 될 경우 While 문 종료\n",
    "        break"
   ]
  },
  {
   "source": [
    "책의 풀이"
   ],
   "cell_type": "markdown",
   "metadata": {}
  },
  {
   "cell_type": "code",
   "execution_count": null,
   "metadata": {},
   "outputs": [],
   "source": [
    "# Input value\n",
    "N, K = 25,3\n",
    "\n",
    "# Pre-Processing\n",
    "count = 0\n",
    "\n",
    "# Data-Processing\n",
    "while N >= K:                       # N이 K이상이라면 계속 K로 나누기\n",
    "    while N % K ! = 0:                  # N이 K로 나누어 떨어지지 않는다면 N - 1\n",
    "        n -= 1\n",
    "        count += 1                          # 해당 과정에 대한 카운트 +1\n",
    "    N //= K                             # N을 K로 나누기\n",
    "    count += 1                              # 해당 과정에 대한 카운트 +1"
   ]
  }
 ]
}