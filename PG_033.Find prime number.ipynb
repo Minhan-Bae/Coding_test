{
 "metadata": {
  "language_info": {
   "codemirror_mode": {
    "name": "ipython",
    "version": 3
   },
   "file_extension": ".py",
   "mimetype": "text/x-python",
   "name": "python",
   "nbconvert_exporter": "python",
   "pygments_lexer": "ipython3",
   "version": "3.9.5"
  },
  "orig_nbformat": 2,
  "kernelspec": {
   "name": "crolling",
   "display_name": "Python 3.9.5 64-bit"
  }
 },
 "nbformat": 4,
 "nbformat_minor": 2,
 "cells": [
  {
   "source": [
    "프로그래머스/연습문제/소수 찾기"
   ],
   "cell_type": "markdown",
   "metadata": {}
  },
  {
   "source": [
    "나의 풀이"
   ],
   "cell_type": "markdown",
   "metadata": {}
  },
  {
   "cell_type": "code",
   "execution_count": 44,
   "metadata": {},
   "outputs": [
    {
     "output_type": "execute_result",
     "data": {
      "text/plain": [
       "4"
      ]
     },
     "metadata": {},
     "execution_count": 44
    }
   ],
   "source": [
    "# 첫번째 코드\n",
    "\n",
    "def solution(n):\n",
    "    count = 0\n",
    "    result = []\n",
    "    for i in range(2,n+1):\n",
    "        result.append([i,0])\n",
    "        for j in range(2,i+1):\n",
    "            if i%j == 0:\n",
    "                result[-1][1]+=1\n",
    "                if result[-1][1] > 2:\n",
    "                    break\n",
    "    for i in result:\n",
    "        if i[1]==1:\n",
    "            count+=1\n",
    "    return count\n",
    "\n",
    "# Code test\n",
    "n = 10\n",
    "solution(n)\n",
    "\n",
    "## 연산량이 많아 시간 초과 발생으로 인해 실패 -- 에라토스테네스의 체 방식을 사용해야 할 것으로 판단"
   ]
  },
  {
   "cell_type": "code",
   "execution_count": 3,
   "metadata": {},
   "outputs": [
    {
     "output_type": "execute_result",
     "data": {
      "text/plain": [
       "4"
      ]
     },
     "metadata": {},
     "execution_count": 3
    }
   ],
   "source": [
    "# 두번째 코드 -- 에라토스테네스의 체 참고하여 재수정..\n",
    "\n",
    "def solution(n):\n",
    "    list_n= set(range(2, n+1))\n",
    "\n",
    "    for i in range(2, n+1):\n",
    "        if i in list_n:\n",
    "            list_n -= set(range(2*i, n+1, i))\n",
    "            \n",
    "    return len(list_n)\n",
    "\n",
    "# Code test\n",
    "n = 10\n",
    "solution(n)\n",
    "\n",
    "## 향후 희망하는 직무 특성상 소수에 대한 알고리즘 공부를 할 지는 잘 모르겠으나, 추후 복습을 통해 추가 학습을 진행 필요"
   ]
  }
 ]
}