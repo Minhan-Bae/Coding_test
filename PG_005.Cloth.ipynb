{
 "metadata": {
  "language_info": {
   "codemirror_mode": {
    "name": "ipython",
    "version": 3
   },
   "file_extension": ".py",
   "mimetype": "text/x-python",
   "name": "python",
   "nbconvert_exporter": "python",
   "pygments_lexer": "ipython3",
   "version": "3.8.5"
  },
  "orig_nbformat": 2,
  "kernelspec": {
   "name": "python385jvsc74a57bd00d69d34aaa36224da9b85c4d6a8df61b98a8775c7f515d2f6783fb2ea4d8cdf0",
   "display_name": "Python 3.8.5 64-bit ('base': conda)"
  },
  "metadata": {
   "interpreter": {
    "hash": "0d69d34aaa36224da9b85c4d6a8df61b98a8775c7f515d2f6783fb2ea4d8cdf0"
   }
  }
 },
 "nbformat": 4,
 "nbformat_minor": 2,
 "cells": [
  {
   "source": [
    "Input value"
   ],
   "cell_type": "markdown",
   "metadata": {}
  },
  {
   "cell_type": "code",
   "execution_count": 18,
   "metadata": {},
   "outputs": [],
   "source": [
    "# Number of students\n",
    "n = 5\n",
    "\n",
    "# lost number\n",
    "lost = [2,4]\n",
    "\n",
    "# reserve number\n",
    "reserve = [1,3,5]\n",
    "\n"
   ]
  },
  {
   "cell_type": "code",
   "execution_count": 21,
   "metadata": {},
   "outputs": [],
   "source": [
    "def solution(n, lost, reserve):\r\n",
    "    real_reserve = set(reserve)-set(lost)\r\n",
    "    real_lost = set(lost)-set(reserve)\r\n",
    "\r\n",
    "    for i in real_reserve:\r\n",
    "        if i-1  in real_lost:\r\n",
    "            real_lost.remove(i+1)\r\n",
    "        elif i+1 in real_lost:\r\n",
    "            real_lost.remove(i-1)\r\n",
    "    return(n-len(real_lost))"
   ]
  }
 ]
}