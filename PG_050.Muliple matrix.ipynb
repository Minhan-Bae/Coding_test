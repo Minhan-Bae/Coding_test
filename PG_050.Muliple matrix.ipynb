{
 "metadata": {
  "language_info": {
   "codemirror_mode": {
    "name": "ipython",
    "version": 3
   },
   "file_extension": ".py",
   "mimetype": "text/x-python",
   "name": "python",
   "nbconvert_exporter": "python",
   "pygments_lexer": "ipython3",
   "version": "3.9.5"
  },
  "orig_nbformat": 2,
  "kernelspec": {
   "name": "python395jvsc74a57bd02ab1d3f9e0014640d99cf6d832ed8e0625ffbbe36dbcdb7680f5fab989ac3797",
   "display_name": "Python 3.9.5 64-bit"
  },
  "metadata": {
   "interpreter": {
    "hash": "2ab1d3f9e0014640d99cf6d832ed8e0625ffbbe36dbcdb7680f5fab989ac3797"
   }
  }
 },
 "nbformat": 4,
 "nbformat_minor": 2,
 "cells": [
  {
   "source": [
    "프로그래머스/연습문제/행렬의 곱셈"
   ],
   "cell_type": "markdown",
   "metadata": {}
  },
  {
   "cell_type": "code",
   "execution_count": 7,
   "metadata": {},
   "outputs": [
    {
     "output_type": "stream",
     "name": "stdout",
     "text": [
      "[[15 15]\n [15 15]\n [15 15]]\n"
     ]
    }
   ],
   "source": [
    "# Numpy를 사용한 행렬 곱셈\n",
    "\n",
    "import numpy as np\n",
    "\n",
    "arr1 = np.array([[1, 4], [3, 2], [4, 1]])\n",
    "arr2 = np.array([[3, 3], [3, 3]])\n",
    "\n",
    "return arr1@arr2\n",
    "\n",
    "# 프로그래머스에서는 numpy 라이브러리가 구현되어있지 않아 불가능"
   ]
  },
  {
   "cell_type": "code",
   "execution_count": 2,
   "metadata": {},
   "outputs": [],
   "source": [
    "# Numpy를 사용하지 않은 방법\n",
    "\n",
    "arr1 = [[1, 4], [3, 2], [4, 1]]\n",
    "arr2 = [[3, 3], [3, 3]]\n",
    "lst1 = []\n",
    "lst2 = []\n",
    "for cols in arr1:\n",
    "    for rows in cols:\n",
    "        lst1.append(rows)\n",
    "\n",
    "for cols in arr2:\n",
    "    for rows in cols:\n",
    "        lst2.append(rows)"
   ]
  }
 ]
}