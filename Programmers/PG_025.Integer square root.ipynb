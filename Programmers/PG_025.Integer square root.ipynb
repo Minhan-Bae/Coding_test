{
 "metadata": {
  "language_info": {
   "codemirror_mode": {
    "name": "ipython",
    "version": 3
   },
   "file_extension": ".py",
   "mimetype": "text/x-python",
   "name": "python",
   "nbconvert_exporter": "python",
   "pygments_lexer": "ipython3",
   "version": "3.9.5"
  },
  "orig_nbformat": 2,
  "kernelspec": {
   "name": "crolling",
   "display_name": "Python 3.9.5 64-bit"
  }
 },
 "nbformat": 4,
 "nbformat_minor": 2,
 "cells": [
  {
   "source": [
    "프로그래머스/연습문제/정수 제곱근 판별"
   ],
   "cell_type": "markdown",
   "metadata": {}
  },
  {
   "source": [
    "나의 풀이"
   ],
   "cell_type": "markdown",
   "metadata": {}
  },
  {
   "cell_type": "code",
   "execution_count": 11,
   "metadata": {},
   "outputs": [
    {
     "output_type": "execute_result",
     "data": {
      "text/plain": [
       "144.0"
      ]
     },
     "metadata": {},
     "execution_count": 11
    }
   ],
   "source": [
    "# 첫번째 코드\n",
    "def solution(n):\n",
    "    return (n**0.5+1)**2 if (n**0.5)%1 == 0 else -1\n",
    "\n",
    "# Code test\n",
    "n = 121\n",
    "solution(n)"
   ]
  }
 ]
}