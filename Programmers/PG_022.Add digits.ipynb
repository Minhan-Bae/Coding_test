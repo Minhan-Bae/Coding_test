{
 "metadata": {
  "language_info": {
   "codemirror_mode": {
    "name": "ipython",
    "version": 3
   },
   "file_extension": ".py",
   "mimetype": "text/x-python",
   "name": "python",
   "nbconvert_exporter": "python",
   "pygments_lexer": "ipython3",
   "version": "3.9.5"
  },
  "orig_nbformat": 2,
  "kernelspec": {
   "name": "crolling",
   "display_name": "Python 3.9.5 64-bit"
  }
 },
 "nbformat": 4,
 "nbformat_minor": 2,
 "cells": [
  {
   "source": [
    "프로그래머스/연습문제/자릿수 더하기"
   ],
   "cell_type": "markdown",
   "metadata": {}
  },
  {
   "source": [
    "나의 풀이"
   ],
   "cell_type": "markdown",
   "metadata": {}
  },
  {
   "cell_type": "code",
   "execution_count": null,
   "metadata": {},
   "outputs": [],
   "source": [
    "# 첫번째 코드\n",
    "\n",
    "def solution(n):\n",
    "# Pre-Processing\n",
    "    list_n = list(str(n))           # 자연수 n을 문자열 리스트로 변환\n",
    "    result = 0                      # 결과값 초기값 설정                    \n",
    "\n",
    "# Data-Processing\n",
    "    for i in range(len(list_n)):    # 리스트 길이만큼 반복\n",
    "        result+=int(list_n[i])      # 리스트의 i번째 해당하는 문자를 정수로 치환한 후 결과값에 더하기\n",
    "    return result\n",
    "\n",
    "# Code test\n",
    "n = 123\n",
    "solution(n)"
   ]
  },
  {
   "cell_type": "code",
   "execution_count": null,
   "metadata": {},
   "outputs": [],
   "source": [
    "# 두번째 코드 - 한줄코드 만들기\n",
    "\n",
    "def solution(n):\n",
    "    return sum(int(list(str(n))[i]) for i in range(len(list(str(n)))))\n",
    "\n",
    "# 굳이 자연수를 문자열 리스트로 변화하지 않고 문자열에서 처리 가능"
   ]
  },
  {
   "cell_type": "code",
   "execution_count": null,
   "metadata": {},
   "outputs": [],
   "source": [
    "# 세번째 코드 - 문자열로 정리\n",
    "def solution(n):\n",
    "    return sum(int(i) for i in str(n))"
   ]
  }
 ]
}