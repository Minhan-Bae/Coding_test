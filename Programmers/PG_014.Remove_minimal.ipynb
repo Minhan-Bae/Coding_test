{
 "metadata": {
  "language_info": {
   "codemirror_mode": {
    "name": "ipython",
    "version": 3
   },
   "file_extension": ".py",
   "mimetype": "text/x-python",
   "name": "python",
   "nbconvert_exporter": "python",
   "pygments_lexer": "ipython3",
   "version": "3.9.2"
  },
  "orig_nbformat": 2,
  "kernelspec": {
   "name": "python392jvsc74a57bd038740d3277777e2cd7c6c2cc9d8addf5118fdf3f82b1b39231fd12aeac8aee8b",
   "display_name": "Python 3.9.2 64-bit"
  }
 },
 "nbformat": 4,
 "nbformat_minor": 2,
 "cells": [
  {
   "source": [
    "제일 작은 수 제거하기"
   ],
   "cell_type": "markdown",
   "metadata": {}
  },
  {
   "source": [
    "나의 풀이"
   ],
   "cell_type": "markdown",
   "metadata": {}
  },
  {
   "cell_type": "code",
   "execution_count": 43,
   "metadata": {},
   "outputs": [
    {
     "output_type": "stream",
     "name": "stdout",
     "text": [
      "answer_1 = [4, 3, 2]\nanswer_2 = [-1]\n"
     ]
    }
   ],
   "source": [
    "def solution(arr):\n",
    "    arr.remove(min(arr))\n",
    "    if len(arr) == 0:\n",
    "        arr = [-1]\n",
    "    return arr\n",
    "    \n",
    "# Code test\n",
    "arr_1 = [4,3,2,1]\n",
    "arr_2 = [10]\n",
    "print(\"answer_1 =\",solution(arr_1))\n",
    "print(\"answer_2 =\",solution(arr_2))\n"
   ]
  },
  {
   "source": [
    "다른사람의 풀이"
   ],
   "cell_type": "markdown",
   "metadata": {}
  },
  {
   "cell_type": "code",
   "execution_count": 47,
   "metadata": {},
   "outputs": [
    {
     "output_type": "stream",
     "name": "stdout",
     "text": [
      "answer_1 = [4, 3, 2]\nanswer_2 = [-1]\n"
     ]
    }
   ],
   "source": [
    "def rm_small(mylist):\n",
    "    return [i for i in mylist if i > min(mylist)] or [-1]\n",
    "\n",
    "# Code test\n",
    "arr_1 = [4,3,2,1]\n",
    "arr_2 = [10]\n",
    "print(\"answer_1 =\",rm_small(arr_1))\n",
    "print(\"answer_2 =\",rm_small(arr_2))"
   ]
  }
 ]
}