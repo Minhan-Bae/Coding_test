{
 "metadata": {
  "language_info": {
   "codemirror_mode": {
    "name": "ipython",
    "version": 3
   },
   "file_extension": ".py",
   "mimetype": "text/x-python",
   "name": "python",
   "nbconvert_exporter": "python",
   "pygments_lexer": "ipython3",
   "version": "3.9.5"
  },
  "orig_nbformat": 2,
  "kernelspec": {
   "name": "python395jvsc74a57bd02ab1d3f9e0014640d99cf6d832ed8e0625ffbbe36dbcdb7680f5fab989ac3797",
   "display_name": "Python 3.9.5 64-bit"
  },
  "metadata": {
   "interpreter": {
    "hash": "2ab1d3f9e0014640d99cf6d832ed8e0625ffbbe36dbcdb7680f5fab989ac3797"
   }
  }
 },
 "nbformat": 4,
 "nbformat_minor": 2,
 "cells": [
  {
   "cell_type": "code",
   "execution_count": 107,
   "metadata": {},
   "outputs": [
    {
     "output_type": "execute_result",
     "data": {
      "text/plain": [
       "16384"
      ]
     },
     "metadata": {},
     "execution_count": 107
    }
   ],
   "source": [
    "from collections import Counter\n",
    "\n",
    "def dev(str0):\n",
    "    str0_n = []\n",
    "    string = 'abcdefghijklmnopqrstuvwxyz'\n",
    "    for i in range(len(str0)-1):\n",
    "        if str0[i].lower() in string and str0[i+1].lower() in string:\n",
    "            str0_n.append(str0[i].lower()+str0[i+1].lower())\n",
    "    return str0_n\n",
    "\n",
    "def solution(str1,str2):\n",
    "    if dev(str2)==[]:\n",
    "        return 65536\n",
    "    else:\n",
    "        return int(((len(list((Counter(dev(str1))&Counter(dev(str2))).values())))/(len(list((Counter(dev(str1))|Counter(dev(str2))).values()))))*65536)\n",
    "\n",
    "\n",
    "str1 = 'FRANCE'\n",
    "str2 = 'french'\n",
    "\n",
    "solution(str1,str2)\n",
    "\n",
    "## 동일한 문자열일 경우 set으로 중복 제거가 되므로 해당 문제에 있어 해결이 불가능능"
   ]
  },
  {
   "cell_type": "code",
   "execution_count": 131,
   "metadata": {},
   "outputs": [
    {
     "output_type": "execute_result",
     "data": {
      "text/plain": [
       "43690"
      ]
     },
     "metadata": {},
     "execution_count": 131
    }
   ],
   "source": [
    "str1 = 'aa1+aa2'\n",
    "str2 = 'AAAA12'\n",
    "from collections import Counter\n",
    "\n",
    "def dev(str0):\n",
    "    str0_n = []\n",
    "    string = 'abcdefghijklmnopqrstuvwxyz'\n",
    "    for i in range(len(str0)-1):\n",
    "        if str0[i].lower() in string and str0[i+1].lower() in string:\n",
    "            str0_n.append(str0[i].lower()+str0[i+1].lower())\n",
    "    return str0_n\n",
    "\n",
    "def inter(str1,str2):\n",
    "    inter = []\n",
    "    pre = str2\n",
    "    for i in str1:\n",
    "        if i in pre:\n",
    "            pre.pop(pre.index(i))\n",
    "            inter.append(i)\n",
    "    return inter\n",
    "\n",
    "def union(str1,str2):\n",
    "    union = str2\n",
    "    pre = str2\n",
    "    for i in str1:\n",
    "        if i not in pre:\n",
    "            pre.pop(pre.index(i))\n",
    "            union.append(i)\n",
    "    return union\n",
    "\n",
    "int(len(inter(dev(str1),dev(str2)))/len(union(dev(str1),dev(str2)))*65536)\n"
   ]
  },
  {
   "cell_type": "code",
   "execution_count": null,
   "metadata": {},
   "outputs": [],
   "source": [
    "str1 = 'aa1+aa2'\n",
    "str2 = 'AAAA12'\n",
    "\n",
    "def dev(str0):\n",
    "    str0_n = []\n",
    "    string = 'abcdefghijklmnopqrstuvwxyz'\n",
    "    for i in range(len(str0)-1):\n",
    "        if str0[i].lower() in string and str0[i+1].lower() in string:\n",
    "            str0_n.append(str0[i].lower()+str0[i+1].lower())\n",
    "    return str0_n\n",
    "\n",
    "    Bitset"
   ]
  },
  {
   "cell_type": "code",
   "execution_count": 132,
   "metadata": {},
   "outputs": [
    {
     "output_type": "error",
     "ename": "ValueError",
     "evalue": "1 is not in list",
     "traceback": [
      "\u001b[1;31m---------------------------------------------------------------------------\u001b[0m",
      "\u001b[1;31mValueError\u001b[0m                                Traceback (most recent call last)",
      "\u001b[1;32m<ipython-input-132-00a0911176fc>\u001b[0m in \u001b[0;36m<module>\u001b[1;34m\u001b[0m\n\u001b[0;32m      2\u001b[0m \u001b[0mlist2\u001b[0m\u001b[1;33m=\u001b[0m\u001b[1;33m[\u001b[0m\u001b[1;36m4\u001b[0m\u001b[1;33m,\u001b[0m\u001b[1;36m4\u001b[0m\u001b[1;33m,\u001b[0m\u001b[1;36m5\u001b[0m\u001b[1;33m,\u001b[0m\u001b[1;36m6\u001b[0m\u001b[1;33m,\u001b[0m\u001b[1;36m7\u001b[0m\u001b[1;33m,\u001b[0m\u001b[1;36m8\u001b[0m\u001b[1;33m,\u001b[0m\u001b[1;36m8\u001b[0m\u001b[1;33m]\u001b[0m\u001b[1;33m\u001b[0m\u001b[1;33m\u001b[0m\u001b[0m\n\u001b[0;32m      3\u001b[0m \u001b[0minter\u001b[0m\u001b[1;33m(\u001b[0m\u001b[0mlist1\u001b[0m\u001b[1;33m,\u001b[0m\u001b[0mlist2\u001b[0m\u001b[1;33m)\u001b[0m\u001b[1;33m\u001b[0m\u001b[1;33m\u001b[0m\u001b[0m\n\u001b[1;32m----> 4\u001b[1;33m \u001b[0munion\u001b[0m\u001b[1;33m(\u001b[0m\u001b[0mlist1\u001b[0m\u001b[1;33m,\u001b[0m\u001b[0mlist2\u001b[0m\u001b[1;33m)\u001b[0m\u001b[1;33m\u001b[0m\u001b[1;33m\u001b[0m\u001b[0m\n\u001b[0m",
      "\u001b[1;32m<ipython-input-131-d83169ea63bd>\u001b[0m in \u001b[0;36munion\u001b[1;34m(str1, str2)\u001b[0m\n\u001b[0;32m     25\u001b[0m     \u001b[1;32mfor\u001b[0m \u001b[0mi\u001b[0m \u001b[1;32min\u001b[0m \u001b[0mstr1\u001b[0m\u001b[1;33m:\u001b[0m\u001b[1;33m\u001b[0m\u001b[1;33m\u001b[0m\u001b[0m\n\u001b[0;32m     26\u001b[0m         \u001b[1;32mif\u001b[0m \u001b[0mi\u001b[0m \u001b[1;32mnot\u001b[0m \u001b[1;32min\u001b[0m \u001b[0mpre\u001b[0m\u001b[1;33m:\u001b[0m\u001b[1;33m\u001b[0m\u001b[1;33m\u001b[0m\u001b[0m\n\u001b[1;32m---> 27\u001b[1;33m             \u001b[0mpre\u001b[0m\u001b[1;33m.\u001b[0m\u001b[0mpop\u001b[0m\u001b[1;33m(\u001b[0m\u001b[0mpre\u001b[0m\u001b[1;33m.\u001b[0m\u001b[0mindex\u001b[0m\u001b[1;33m(\u001b[0m\u001b[0mi\u001b[0m\u001b[1;33m)\u001b[0m\u001b[1;33m)\u001b[0m\u001b[1;33m\u001b[0m\u001b[1;33m\u001b[0m\u001b[0m\n\u001b[0m\u001b[0;32m     28\u001b[0m             \u001b[0munion\u001b[0m\u001b[1;33m.\u001b[0m\u001b[0mappend\u001b[0m\u001b[1;33m(\u001b[0m\u001b[0mi\u001b[0m\u001b[1;33m)\u001b[0m\u001b[1;33m\u001b[0m\u001b[1;33m\u001b[0m\u001b[0m\n\u001b[0;32m     29\u001b[0m     \u001b[1;32mreturn\u001b[0m \u001b[0munion\u001b[0m\u001b[1;33m\u001b[0m\u001b[1;33m\u001b[0m\u001b[0m\n",
      "\u001b[1;31mValueError\u001b[0m: 1 is not in list"
     ]
    }
   ],
   "source": [
    "list1=[1,2,4,4,4]\n",
    "list2=[4,4,5,6,7,8,8]\n",
    "inter(list1,list2)\n",
    "union(list1,list2)"
   ]
  },
  {
   "cell_type": "code",
   "execution_count": null,
   "metadata": {},
   "outputs": [],
   "source": [
    "from collections import Counter\n",
    "from math import floor\n",
    "def dev(str0):\n",
    "    str0_n = []\n",
    "    string = 'abcdefghijklmnopqrstuvwxyz'\n",
    "    for i in range(len(str0)-1):\n",
    "        if str0[i].lower() in string and str0[i+1].lower() in string:\n",
    "            str0_n.append(str0[i].lower()+str0[i+1].lower())\n",
    "    return str0_n\n",
    "\n",
    "def inter(str1,str2):\n",
    "    inter = []\n",
    "    pre = str2\n",
    "    for i in str1:\n",
    "        if i in pre:\n",
    "            pre.pop(pre.index(i))\n",
    "            inter.append(i)\n",
    "    return inter\n",
    "\n",
    "def union(str1,str2):\n",
    "    union = str2\n",
    "    pre = str2\n",
    "    for i in str1:\n",
    "        if i not in pre:\n",
    "            pre.pop(pre.index(i))\n",
    "            union.append(i)\n",
    "    return union\n",
    "\n",
    "def solution(str1,str2):\n",
    "    if union(dev(str1),dev(str2))==[]:\n",
    "        return 65536\n",
    "    else:\n",
    "        return int(floor((len(inter(dev(str1),dev(str2)))/len(union(dev(str1),dev(str2))))*65536))"
   ]
  }
 ]
}