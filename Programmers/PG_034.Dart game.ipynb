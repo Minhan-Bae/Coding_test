{
 "metadata": {
  "language_info": {
   "codemirror_mode": {
    "name": "ipython",
    "version": 3
   },
   "file_extension": ".py",
   "mimetype": "text/x-python",
   "name": "python",
   "nbconvert_exporter": "python",
   "pygments_lexer": "ipython3",
   "version": "3.9.2"
  },
  "orig_nbformat": 2,
  "kernelspec": {
   "name": "python392jvsc74a57bd038740d3277777e2cd7c6c2cc9d8addf5118fdf3f82b1b39231fd12aeac8aee8b",
   "display_name": "Python 3.9.2 64-bit"
  }
 },
 "nbformat": 4,
 "nbformat_minor": 2,
 "cells": [
  {
   "source": [
    "프로그래머스/연습문제/다트게임"
   ],
   "cell_type": "markdown",
   "metadata": {}
  },
  {
   "source": [
    "나의 풀이"
   ],
   "cell_type": "markdown",
   "metadata": {}
  },
  {
   "cell_type": "code",
   "execution_count": 7,
   "metadata": {},
   "outputs": [],
   "source": [
    "# 첫번째 시도\n",
    "dartResult = \"1S2D\"\n",
    "list_dart  = list(dartResult)\n",
    "\n",
    "list_num = ['0','1','2','3','4','5','6','7','8','9','10']\n",
    "stack = \"SDT\"\n",
    "num = []\n",
    "int_num= 0\n",
    "result = 0\n",
    "for i in list_dart:\n",
    "    if i in list_num:\n",
    "        num.append(i)\n",
    "    else:\n",
    "        int_num = \n",
    "        if i in stack:\n",
    "            int_num**=(stack.index(i)+1)\n",
    "        elif i == '#':\n",
    "            int_num-=1\n",
    "    result += int_num\n",
    "    if i == '*':\n",
    "        result*=2\n",
    "\n",
    "## '*'부분과 10점일때 1,0 이 아닌 10으로 나타내는 방법을 구사하지 못함"
   ]
  },
  {
   "cell_type": "code",
   "execution_count": 41,
   "metadata": {},
   "outputs": [],
   "source": [
    "# N-1 번째 시도\n",
    "dartResult = \"1S*2T*3S\"\n",
    "\n",
    "list_dart  = list(dartResult)\n",
    "list_num = ['0','1','2','3','4','5','6','7','8','9']\n",
    "stack = \"SDT\"\n",
    "minus,multiple = '#','*'\n",
    "num = []\n",
    "for i in list_dart:\n",
    "    if i in list_num:\n",
    "        if len(num)==0 or num[-1] not in list_num:\n",
    "            num.append(i)\n",
    "        else:\n",
    "            num[-1]+=i\n",
    "    elif i in stack:\n",
    "        num[-1]=int(num[-1])**(stack.index(i)+1)\n",
    "    elif i == minus:\n",
    "        num[-1]=int(num[-1])*(-1)\n",
    "    elif i == multiple:\n",
    "        if len(num)==1:\n",
    "            num[-1]*=2\n",
    "        elif len(num)==2:\n",
    "            num[-1]*=2\n",
    "            num[-2]*=2\n",
    "        else:\n",
    "            num[-2:]*=2\n",
    "                  \n",
    "answer = sum(num)\n",
    "## '*'이 이전에 있었던 값 전부를 두배 하는 것이 아닌 해당하는 부분과 그 전 부분만을 두배하는 것이기에 방법을 구상하지 못함"
   ]
  },
  {
   "cell_type": "code",
   "execution_count": 46,
   "metadata": {},
   "outputs": [
    {
     "output_type": "execute_result",
     "data": {
      "text/plain": [
       "23"
      ]
     },
     "metadata": {},
     "execution_count": 46
    }
   ],
   "source": [
    "# N 번째 코드\n",
    "def solution(dartResult):\n",
    "# Pre-Processing    \n",
    "    list_dart  = list(dartResult)                               # 문자열을 쪼개기 위해 리스트로 변환\n",
    "    list_num = ['0','1','2','3','4','5','6','7','8','9']        # 점수 영역을 리스트로 생성\n",
    "    stack = \"SDT\"                                               # 지수 영역을 리스트로 생성\n",
    "    num = []\n",
    "# Data-Processing\n",
    "    for i in list_dart:                                         # 쪼개진 영역 중에\n",
    "        if i in list_num:                                           # 점수 영역일 경우,\n",
    "            if len(num)==0 or num[-1] not in list_num:                  # 그리고 10점일 경우를 생각하여 초기상태이거나, 점수 뒤에 점수가 오지 않을 경우 리스트 추가\n",
    "                num.append(i)\n",
    "            else:\n",
    "                num[-1]+=i                                              # 아닐 경우, 리스트에 값 추가 ex num[0] == '1'  + '0'  = '10'\n",
    "        elif i in stack:                                            # 지수 영역일 경우, \n",
    "            num[-1]=int(num[-1])**(stack.index(i)+1)                    # 각 SDT의 위치값+1을 추출하여 제곱\n",
    "        elif i == '#':                                              # '#'일 경우,\n",
    "            num[-1]=int(num[-1])*(-1)                                   # 바로 전 리스트의 값(문자열)을 정수화 하여 -1을 곱함\n",
    "        elif i == '*':                                              # '*'일 경우,\n",
    "            if len(num)==1:                                             # 첫번째 단계에서 '*'이 나오면 해당 부분만 2를 곱함    \n",
    "                num[-1]*=2\n",
    "            else:                                                       # 첫번째가 아닐 경우, 뒤에서 두개의 리스트를 2씩 곱함\n",
    "                num[-2:]*=2\n",
    "                    \n",
    "    return sum(num)                                             # 구해진 num값을 다 더함\n",
    "\n",
    "# Code tset\n",
    "dartResult = \"1S*2T*3S\"\n",
    "solution(dartResult)"
   ]
  }
 ]
}