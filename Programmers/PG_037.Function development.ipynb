{
 "metadata": {
  "language_info": {
   "codemirror_mode": {
    "name": "ipython",
    "version": 3
   },
   "file_extension": ".py",
   "mimetype": "text/x-python",
   "name": "python",
   "nbconvert_exporter": "python",
   "pygments_lexer": "ipython3",
   "version": "3.9.5"
  },
  "orig_nbformat": 2,
  "kernelspec": {
   "name": "python395jvsc74a57bd0b2a729f8c35134cc3b30d6bab9c36c11fed8b199554f94213cb446f0e1dd4432",
   "display_name": "Python 3.9.5 64-bit ('crolling': virtualenvwrapper)"
  }
 },
 "nbformat": 4,
 "nbformat_minor": 2,
 "cells": [
  {
   "source": [
    "프로그래머스/연습문제/기능개발"
   ],
   "cell_type": "markdown",
   "metadata": {}
  },
  {
   "source": [
    "나의 풀이"
   ],
   "cell_type": "markdown",
   "metadata": {}
  },
  {
   "cell_type": "code",
   "execution_count": 25,
   "metadata": {},
   "outputs": [
    {
     "output_type": "execute_result",
     "data": {
      "text/plain": [
       "[2, 1]"
      ]
     },
     "metadata": {},
     "execution_count": 25
    }
   ],
   "source": [
    "# N-1 번째 풀이\n",
    "def solution(progresses,speeds):\n",
    "# Pre-Processing\n",
    "    to_finish = []\n",
    "    result = []\n",
    "# Data-Processing\n",
    "    for i,j in zip(progresses,speeds):\n",
    "        to_finish.append((100-i)//j)\n",
    "\n",
    "    for i in to_finish:\n",
    "        if len(result)==0 or result[-1][0] <= i:\n",
    "            result.append([i,1])            \n",
    "        else:\n",
    "            result[-1][1]+=1\n",
    "    return [answer[1] for answer in result]\n",
    "\n",
    "# Code test\n",
    "progresses = [93, 30, 55]\n",
    "speeds = [1, 30, 5]\n",
    "solution(progresses,speeds)\n",
    "\n",
    "# 테스트케이스 11번이 계속 틀림 -> to_finish 연산과정에 있어 소수점 자리수 처리가 올림처리되어서라 판단"
   ]
  },
  {
   "cell_type": "code",
   "execution_count": 26,
   "metadata": {},
   "outputs": [
    {
     "output_type": "execute_result",
     "data": {
      "text/plain": [
       "[2, 1]"
      ]
     },
     "metadata": {},
     "execution_count": 26
    }
   ],
   "source": [
    "# N 번째 풀이\n",
    "def solution(progresses,speeds):\n",
    "# Pre-Processing\n",
    "    to_finish = []\n",
    "    result = []\n",
    "# Data-Processing\n",
    "    for i,j in zip(progresses,speeds):\n",
    "        to_finish.append(-((i-100)//j))\n",
    "\n",
    "    for i in to_finish:\n",
    "        if len(result)==0 or result[-1][0] < i:\n",
    "            result.append([i,1])            \n",
    "        else:\n",
    "            result[-1][1]+=1\n",
    "    return [answer[1] for answer in result]\n",
    "\n",
    "# Code test\n",
    "progresses = [93, 30, 55]\n",
    "speeds = [1, 30, 5]\n",
    "solution(progresses,speeds)"
   ]
  }
 ]
}