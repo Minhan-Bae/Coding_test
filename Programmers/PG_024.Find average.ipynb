{
 "metadata": {
  "language_info": {
   "codemirror_mode": {
    "name": "ipython",
    "version": 3
   },
   "file_extension": ".py",
   "mimetype": "text/x-python",
   "name": "python",
   "nbconvert_exporter": "python",
   "pygments_lexer": "ipython3",
   "version": "3.9.5"
  },
  "orig_nbformat": 2,
  "kernelspec": {
   "name": "crolling",
   "display_name": "Python 3.9.5 64-bit"
  }
 },
 "nbformat": 4,
 "nbformat_minor": 2,
 "cells": [
  {
   "source": [
    "프로그래머스/연습문제/평균 구하기"
   ],
   "cell_type": "markdown",
   "metadata": {}
  },
  {
   "source": [
    "나의 풀이"
   ],
   "cell_type": "markdown",
   "metadata": {}
  },
  {
   "cell_type": "code",
   "execution_count": null,
   "metadata": {},
   "outputs": [],
   "source": [
    "# Numpy 에 있는 mean을 사용한 방법\n",
    "\n",
    "from numpy import mean\n",
    "def solution(s):\n",
    "    return mean(s)"
   ]
  },
  {
   "cell_type": "code",
   "execution_count": null,
   "metadata": {},
   "outputs": [],
   "source": [
    "# 외부 라이브러리 사용 X\n",
    "\n",
    "def solution(s):\n",
    "    return sum(s)/len(s)\n",
    "\n",
    "# Code test\n",
    "s = [1,2,3,4]\n",
    "solution(s)"
   ]
  }
 ]
}