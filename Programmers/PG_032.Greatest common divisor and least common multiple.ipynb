{
 "metadata": {
  "language_info": {
   "codemirror_mode": {
    "name": "ipython",
    "version": 3
   },
   "file_extension": ".py",
   "mimetype": "text/x-python",
   "name": "python",
   "nbconvert_exporter": "python",
   "pygments_lexer": "ipython3",
   "version": "3.9.5"
  },
  "orig_nbformat": 2,
  "kernelspec": {
   "name": "crolling",
   "display_name": "Python 3.9.5 64-bit"
  }
 },
 "nbformat": 4,
 "nbformat_minor": 2,
 "cells": [
  {
   "source": [
    "프로그래머스/연습문제/최대공약수와 최소공배수"
   ],
   "cell_type": "markdown",
   "metadata": {}
  },
  {
   "source": [
    "나의 풀이"
   ],
   "cell_type": "markdown",
   "metadata": {}
  },
  {
   "cell_type": "code",
   "execution_count": 5,
   "metadata": {},
   "outputs": [
    {
     "output_type": "execute_result",
     "data": {
      "text/plain": [
       "[3, 12]"
      ]
     },
     "metadata": {},
     "execution_count": 5
    }
   ],
   "source": [
    "# math 라이브러리의 gcd와 lcm을 이용한 코드\n",
    "\n",
    "from math import gcd, lcm\n",
    "\n",
    "def solution(n,m):\n",
    "    return [gcd(n,m),lcm(n,m)]\n",
    "\n",
    "# Code test\n",
    "n,m = 3,12\n",
    "solution(n,m)"
   ]
  },
  {
   "cell_type": "code",
   "execution_count": 10,
   "metadata": {},
   "outputs": [
    {
     "output_type": "execute_result",
     "data": {
      "text/plain": [
       "[3, 12]"
      ]
     },
     "metadata": {},
     "execution_count": 10
    }
   ],
   "source": [
    "# 첫번째 코드\n",
    "\n",
    "def solution(n,m):\n",
    "    for i in range(1,max(n,m)+1):\n",
    "        if n%i == 0 and m%i ==0:\n",
    "            gcd = i\n",
    "    for i in range(1,n*m+1):\n",
    "        if i%n == 0 and i%m == 0:\n",
    "            lcm = i\n",
    "            break\n",
    "    return [gcd,lcm]\n",
    "\n",
    "# Code test\n",
    "n,m = 3,12\n",
    "solution(n,m)"
   ]
  }
 ]
}