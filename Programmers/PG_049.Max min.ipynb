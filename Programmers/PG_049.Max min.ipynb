{
 "metadata": {
  "language_info": {
   "codemirror_mode": {
    "name": "ipython",
    "version": 3
   },
   "file_extension": ".py",
   "mimetype": "text/x-python",
   "name": "python",
   "nbconvert_exporter": "python",
   "pygments_lexer": "ipython3",
   "version": "3.9.5"
  },
  "orig_nbformat": 2,
  "kernelspec": {
   "name": "python395jvsc74a57bd02ab1d3f9e0014640d99cf6d832ed8e0625ffbbe36dbcdb7680f5fab989ac3797",
   "display_name": "Python 3.9.5 64-bit"
  },
  "metadata": {
   "interpreter": {
    "hash": "2ab1d3f9e0014640d99cf6d832ed8e0625ffbbe36dbcdb7680f5fab989ac3797"
   }
  }
 },
 "nbformat": 4,
 "nbformat_minor": 2,
 "cells": [
  {
   "cell_type": "code",
   "execution_count": 30,
   "metadata": {},
   "outputs": [
    {
     "output_type": "execute_result",
     "data": {
      "text/plain": [
       "'-4 -1'"
      ]
     },
     "metadata": {},
     "execution_count": 30
    }
   ],
   "source": [
    "s = \"-1 -2 -3 -4\"\n",
    "\n",
    "def solution(s):\n",
    "    list_s = s.split()\n",
    "    for i in range(len(list_s)):\n",
    "        list_s[i] = int(list_s[i])\n",
    "    answer = str(min(list_s))+' '+str(max(list_s))\n",
    "    return answer\n",
    "\n",
    "solution(s)"
   ]
  },
  {
   "cell_type": "code",
   "execution_count": 33,
   "metadata": {},
   "outputs": [
    {
     "output_type": "execute_result",
     "data": {
      "text/plain": [
       "'-4 -1'"
      ]
     },
     "metadata": {},
     "execution_count": 33
    }
   ],
   "source": [
    "# Map을 이용한 코드 압축\n",
    "\n",
    "def solution(s):\n",
    "    s = list(map(int,s.split()))\n",
    "    return str(min(s))+' '+str(max(s))\n",
    "\n",
    "solution(s)"
   ]
  }
 ]
}