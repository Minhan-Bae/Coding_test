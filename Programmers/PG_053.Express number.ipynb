{
 "metadata": {
  "language_info": {
   "codemirror_mode": {
    "name": "ipython",
    "version": 3
   },
   "file_extension": ".py",
   "mimetype": "text/x-python",
   "name": "python",
   "nbconvert_exporter": "python",
   "pygments_lexer": "ipython3",
   "version": "3.9.5"
  },
  "orig_nbformat": 2,
  "kernelspec": {
   "name": "python395jvsc74a57bd01e91a7d8e4864e2473b15ec9625848ab694e742002a8329d532293588fb63e50",
   "display_name": "Python 3.9.5 64-bit"
  }
 },
 "nbformat": 4,
 "nbformat_minor": 2,
 "cells": [
  {
   "source": [
    "프로그래머스/연습문제/숫자의 표현"
   ],
   "cell_type": "markdown",
   "metadata": {}
  },
  {
   "source": [
    "해결 방법 구상\n",
    "\n",
    "n = 15 \n",
    "\n",
    "    1+2+3+4+5 = 15\n",
    "    4+5+6 = 15\n",
    "    7+8 = 15\n",
    "    15 = 15\n",
    "\n",
    "result =  4\n",
    "\n",
    "n = n\n",
    "    i for range(n):\n",
    "        while sums < n:\n",
    "            sums+=i\n",
    "            i++\n",
    "\n"
   ],
   "cell_type": "markdown",
   "metadata": {}
  },
  {
   "cell_type": "code",
   "execution_count": 10,
   "metadata": {},
   "outputs": [
    {
     "output_type": "execute_result",
     "data": {
      "text/plain": [
       "4"
      ]
     },
     "metadata": {},
     "execution_count": 10
    }
   ],
   "source": [
    "def solution(n):\n",
    "    cnt = 0\n",
    "    for i in range(1,n+1):\n",
    "        sums = 0\n",
    "        while sums < n:\n",
    "            sums+=i\n",
    "            i+=1\n",
    "            if sums == n:\n",
    "                cnt+=1\n",
    "    return cnt\n",
    "\n",
    "# Code test\n",
    "n = 15\n",
    "solution(n)"
   ]
  },
  {
   "cell_type": "code",
   "execution_count": 14,
   "metadata": {},
   "outputs": [
    {
     "output_type": "execute_result",
     "data": {
      "text/plain": [
       "4"
      ]
     },
     "metadata": {},
     "execution_count": 14
    }
   ],
   "source": [
    "# 등차수열 합을 이용한 공식...\n",
    "\n",
    "def solution(n):\n",
    "    return len([i for i in range(1,n+1,2) if n % i == 0])\n",
    "\n",
    "solution(n)"
   ]
  }
 ]
}