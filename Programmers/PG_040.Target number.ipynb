{
 "metadata": {
  "language_info": {
   "codemirror_mode": {
    "name": "ipython",
    "version": 3
   },
   "file_extension": ".py",
   "mimetype": "text/x-python",
   "name": "python",
   "nbconvert_exporter": "python",
   "pygments_lexer": "ipython3",
   "version": "3.9.5"
  },
  "orig_nbformat": 2,
  "kernelspec": {
   "name": "python395jvsc74a57bd0b2a729f8c35134cc3b30d6bab9c36c11fed8b199554f94213cb446f0e1dd4432",
   "display_name": "Python 3.9.5 64-bit ('crolling': virtualenvwrapper)"
  }
 },
 "nbformat": 4,
 "nbformat_minor": 2,
 "cells": [
  {
   "source": [
    "프로그래머스/연습문제/타겟 넘버"
   ],
   "cell_type": "markdown",
   "metadata": {}
  },
  {
   "source": [
    "나의 풀이"
   ],
   "cell_type": "markdown",
   "metadata": {}
  },
  {
   "cell_type": "code",
   "execution_count": 21,
   "metadata": {},
   "outputs": [
    {
     "output_type": "execute_result",
     "data": {
      "text/plain": [
       "5"
      ]
     },
     "metadata": {},
     "execution_count": 21
    }
   ],
   "source": [
    "numbers = [1,1,1,1,1]\n",
    "target = 3\n",
    "\n",
    "array = [0]\n",
    "\n",
    "def dfs(num):\n",
    "    global array\n",
    "    sub_array = []\n",
    "    for i in array:\n",
    "        sub_array.append(i+num)\n",
    "        sub_array.append(i-num)\n",
    "        array = sub_array\n",
    "    return array\n",
    "\n",
    "def solution(numbers,target):\n",
    "    for i in numbers:\n",
    "        result = dfs(i)\n",
    "    return result.count(target)\n",
    "\n",
    "solution(numbers,target)\n",
    "\n",
    "## 슈퍼노드를 설정 후 dfs를 거칠 때 마다 갱신하여 타겟 값과 일치하는 원소를 카운팅"
   ]
  },
  {
   "source": [
    "다른 사람 풀이"
   ],
   "cell_type": "markdown",
   "metadata": {}
  },
  {
   "cell_type": "code",
   "execution_count": 24,
   "metadata": {},
   "outputs": [
    {
     "output_type": "execute_result",
     "data": {
      "text/plain": [
       "5"
      ]
     },
     "metadata": {},
     "execution_count": 24
    }
   ],
   "source": [
    "def solution(numbers, target):\n",
    "    if not numbers and target == 0 :\n",
    "        return 1\n",
    "    elif not numbers:\n",
    "        return 0\n",
    "    else:\n",
    "        return solution(numbers[1:], target-numbers[0]) + solution(numbers[1:], target+numbers[0])\n",
    "\n",
    "numbers = [1,1,1,1,1]\n",
    "target = 3\n",
    "solution(numbers,target)"
   ]
  }
 ]
}