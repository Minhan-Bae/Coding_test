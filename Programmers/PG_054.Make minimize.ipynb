{
 "metadata": {
  "language_info": {
   "codemirror_mode": {
    "name": "ipython",
    "version": 3
   },
   "file_extension": ".py",
   "mimetype": "text/x-python",
   "name": "python",
   "nbconvert_exporter": "python",
   "pygments_lexer": "ipython3",
   "version": "3.9.5"
  },
  "orig_nbformat": 2,
  "kernelspec": {
   "name": "python395jvsc74a57bd01e91a7d8e4864e2473b15ec9625848ab694e742002a8329d532293588fb63e50",
   "display_name": "Python 3.9.5 64-bit"
  }
 },
 "nbformat": 4,
 "nbformat_minor": 2,
 "cells": [
  {
   "source": [
    "프로그래머스/연습문제/최솟값 만들기"
   ],
   "cell_type": "markdown",
   "metadata": {}
  },
  {
   "source": [
    "# 생각의 흐름에 따른 풀이\n",
    "\n",
    "A = [1,4,2]\n",
    "B = [5,4,4]\n",
    "result = 0\n",
    "A.sort()\n",
    "B.sort()\n",
    "for a in range(len(A)):\n",
    "    sums = []\n",
    "    for b in range(len(B)):\n",
    "        sums.append(A[a]*B[b])\n",
    "    result += max(sums)\n",
    "    B.pop(sums.index(max(sums)))\n",
    "    "
   ],
   "cell_type": "code",
   "metadata": {},
   "execution_count": 10,
   "outputs": []
  },
  {
   "cell_type": "code",
   "execution_count": 16,
   "metadata": {},
   "outputs": [
    {
     "output_type": "execute_result",
     "data": {
      "text/plain": [
       "29"
      ]
     },
     "metadata": {},
     "execution_count": 16
    }
   ],
   "source": [
    "# 생각 정리 1차\n",
    "\n",
    "def solution(A,B):\n",
    "    result = 0\n",
    "    A.sort()\n",
    "    B.sort(reverse=True)\n",
    "    for a,b in zip(A,B):\n",
    "        result+=a*b\n",
    "    return result\n",
    "A = [1,4,2]\n",
    "B = [5,4,4]\n",
    "solution(A,B)"
   ]
  },
  {
   "cell_type": "code",
   "execution_count": 18,
   "metadata": {},
   "outputs": [
    {
     "output_type": "execute_result",
     "data": {
      "text/plain": [
       "29"
      ]
     },
     "metadata": {},
     "execution_count": 18
    }
   ],
   "source": [
    "# 최종 수정\n",
    "\n",
    "def solution(A,B):\n",
    "    return sum(a*b for a,b in zip(sorted(A),sorted(B, reverse=True)))\n",
    "solution(A,B)"
   ]
  }
 ]
}