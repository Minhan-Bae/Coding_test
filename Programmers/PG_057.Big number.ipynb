{
 "metadata": {
  "language_info": {
   "codemirror_mode": {
    "name": "ipython",
    "version": 3
   },
   "file_extension": ".py",
   "mimetype": "text/x-python",
   "name": "python",
   "nbconvert_exporter": "python",
   "pygments_lexer": "ipython3",
   "version": "3.9.5"
  },
  "orig_nbformat": 2,
  "kernelspec": {
   "name": "python395jvsc74a57bd01e91a7d8e4864e2473b15ec9625848ab694e742002a8329d532293588fb63e50",
   "display_name": "Python 3.9.5 64-bit"
  }
 },
 "nbformat": 4,
 "nbformat_minor": 2,
 "cells": [
  {
   "source": [
    "프로그래머스/연습문제/가장 큰 수"
   ],
   "cell_type": "markdown",
   "metadata": {}
  },
  {
   "cell_type": "code",
   "execution_count": 42,
   "metadata": {},
   "outputs": [
    {
     "output_type": "execute_result",
     "data": {
      "text/plain": [
       "'9534330'"
      ]
     },
     "metadata": {},
     "execution_count": 42
    }
   ],
   "source": [
    "# 의식의 흐름에 따른 프로그래밍\n",
    "\n",
    "from itertools import permutations\n",
    "\n",
    "def solution(numbers):\n",
    "    # 정수형 리스트를 문자형 리스트로 변환\n",
    "    numbers = list(map(str,numbers))\n",
    "\n",
    "\n",
    "    # 나열할 수 있는 원소배열 정리\n",
    "    sums = (list(permutations(numbers,len(numbers))))\n",
    "    for i in range(len(sums)):\n",
    "        sums[i] = ''.join(sums[i])\n",
    "    return max(sums)\n",
    "\n",
    "# Code test\n",
    "numbers = [3, 30, 34, 5, 9]\n",
    "solution(numbers)\n",
    "\n",
    "## 시간 초과 발생!"
   ]
  },
  {
   "cell_type": "code",
   "execution_count": 8,
   "metadata": {},
   "outputs": [
    {
     "output_type": "execute_result",
     "data": {
      "text/plain": [
       "'9534303'"
      ]
     },
     "metadata": {},
     "execution_count": 8
    }
   ],
   "source": [
    "numbers = [3, 30, 34, 5, 9]\n",
    "numbers = list(map(str,numbers))\n",
    "numbers.sort(reverse=True)\n",
    "''.join(numbers)\n",
    "\n",
    "## 혼자 해결이 불가능하여 결국 다른사람 풀이 참고..333과 303030의 문자열 크기 차이를 비교하기"
   ]
  }
 ]
}