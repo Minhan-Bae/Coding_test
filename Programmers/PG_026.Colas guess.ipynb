{
 "metadata": {
  "language_info": {
   "codemirror_mode": {
    "name": "ipython",
    "version": 3
   },
   "file_extension": ".py",
   "mimetype": "text/x-python",
   "name": "python",
   "nbconvert_exporter": "python",
   "pygments_lexer": "ipython3",
   "version": "3.9.5"
  },
  "orig_nbformat": 2,
  "kernelspec": {
   "name": "crolling",
   "display_name": "Python 3.9.5 64-bit"
  }
 },
 "nbformat": 4,
 "nbformat_minor": 2,
 "cells": [
  {
   "source": [
    "프로그래머스/연습문제/콜라스 추측"
   ],
   "cell_type": "markdown",
   "metadata": {}
  },
  {
   "source": [
    "나의 풀이"
   ],
   "cell_type": "markdown",
   "metadata": {}
  },
  {
   "cell_type": "code",
   "execution_count": 23,
   "metadata": {},
   "outputs": [
    {
     "output_type": "execute_result",
     "data": {
      "text/plain": [
       "-1"
      ]
     },
     "metadata": {},
     "execution_count": 23
    }
   ],
   "source": [
    "# 첫번째 코드\n",
    "\n",
    "def solution(n):\n",
    "    count = 0\n",
    "    if n == 1:\n",
    "        return 0\n",
    "    while True:\n",
    "        if n%2 == 0:\n",
    "            n/=2\n",
    "            count+=1\n",
    "        else:\n",
    "            n = (n*3)+1\n",
    "            count+=1\n",
    "\n",
    "        if n == 1:\n",
    "            return count\n",
    "        elif count >= 500:\n",
    "            return -1\n",
    "\n",
    "# Code test\n",
    "solution(n)\n",
    "n = 626331"
   ]
  }
 ]
}