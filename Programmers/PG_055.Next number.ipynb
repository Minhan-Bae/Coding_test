{
 "metadata": {
  "language_info": {
   "codemirror_mode": {
    "name": "ipython",
    "version": 3
   },
   "file_extension": ".py",
   "mimetype": "text/x-python",
   "name": "python",
   "nbconvert_exporter": "python",
   "pygments_lexer": "ipython3",
   "version": "3.9.5"
  },
  "orig_nbformat": 2,
  "kernelspec": {
   "name": "python395jvsc74a57bd01e91a7d8e4864e2473b15ec9625848ab694e742002a8329d532293588fb63e50",
   "display_name": "Python 3.9.5 64-bit"
  }
 },
 "nbformat": 4,
 "nbformat_minor": 2,
 "cells": [
  {
   "source": [
    "프로그래머스/연습문제/다음 큰 숫자"
   ],
   "cell_type": "markdown",
   "metadata": {}
  },
  {
   "cell_type": "code",
   "execution_count": null,
   "metadata": {},
   "outputs": [],
   "source": [
    "n = 78\r\n",
    "list(format(n,'b')).count('1') == list(format(i if i ,'b')).count('1')"
   ]
  },
  {
   "cell_type": "code",
   "execution_count": null,
   "metadata": {},
   "outputs": [],
   "source": [
    "# 생각의 흐름에 따른 풀이\n",
    "\n",
    "n = 78\n",
    "def solution(n):\n",
    "    num = list(format(n,'b')).count('1')\n",
    "    i = n\n",
    "    while True:\n",
    "        i+=1\n",
    "        if list(format(i,'b')).count('1')==num:\n",
    "            return i\n",
    "            break\n",
    "\n",
    "solution(n)"
   ]
  },
  {
   "cell_type": "code",
   "execution_count": 10,
   "metadata": {},
   "outputs": [
    {
     "output_type": "execute_result",
     "data": {
      "text/plain": [
       "23"
      ]
     },
     "metadata": {},
     "execution_count": 10
    }
   ],
   "source": [
    "n = 15\n",
    "\n",
    "def solution(n,num=n+1):\n",
    "    return num if list(format(num,'b')).count('1')==list(format(n,'b')).count('1') else solution(n,num+1)\n",
    "\n",
    "solution(n)"
   ]
  }
 ]
}