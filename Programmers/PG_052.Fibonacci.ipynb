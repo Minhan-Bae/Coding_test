{
 "metadata": {
  "language_info": {
   "codemirror_mode": {
    "name": "ipython",
    "version": 3
   },
   "file_extension": ".py",
   "mimetype": "text/x-python",
   "name": "python",
   "nbconvert_exporter": "python",
   "pygments_lexer": "ipython3",
   "version": "3.9.5"
  },
  "orig_nbformat": 2,
  "kernelspec": {
   "name": "python395jvsc74a57bd01e91a7d8e4864e2473b15ec9625848ab694e742002a8329d532293588fb63e50",
   "display_name": "Python 3.9.5 64-bit"
  }
 },
 "nbformat": 4,
 "nbformat_minor": 2,
 "cells": [
  {
   "source": [
    "프로그래머스/연습문제/피보나치 수"
   ],
   "cell_type": "markdown",
   "metadata": {}
  },
  {
   "cell_type": "code",
   "execution_count": 1,
   "metadata": {},
   "outputs": [
    {
     "output_type": "execute_result",
     "data": {
      "text/plain": [
       "5"
      ]
     },
     "metadata": {},
     "execution_count": 1
    }
   ],
   "source": [
    "n = 5\n",
    "\n",
    "fib = [0,1]\n",
    "def fibo(n):\n",
    "    fib.append(fib[-2]+fib[-1])\n",
    "    return fib\n",
    "\n",
    "def solution(n):\n",
    "    while len(fib)<=n:\n",
    "        fibo(n)\n",
    "    return(fib[-1]%1234567)\n",
    "\n",
    "# Code test\n",
    "solution(n)\n",
    "\n",
    "## 일단 막코딩으로 통과 완료.."
   ]
  },
  {
   "cell_type": "code",
   "execution_count": 1,
   "metadata": {},
   "outputs": [
    {
     "output_type": "execute_result",
     "data": {
      "text/plain": [
       "5"
      ]
     },
     "metadata": {},
     "execution_count": 1
    }
   ],
   "source": [
    "# 재귀함수 사용해보기\n",
    "\n",
    "n = 5\n",
    "def solution(n):\n",
    "    if n <= 2:\n",
    "        return 1\n",
    "    return solution(n-1)+solution(n-2)\n",
    "\n",
    "# Code test\n",
    "solution(n)"
   ]
  }
 ]
}