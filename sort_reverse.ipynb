{
 "metadata": {
  "language_info": {
   "codemirror_mode": {
    "name": "ipython",
    "version": 3
   },
   "file_extension": ".py",
   "mimetype": "text/x-python",
   "name": "python",
   "nbconvert_exporter": "python",
   "pygments_lexer": "ipython3",
   "version": "3.9.5"
  },
  "orig_nbformat": 2,
  "kernelspec": {
   "name": "python395jvsc74a57bd0b2a729f8c35134cc3b30d6bab9c36c11fed8b199554f94213cb446f0e1dd4432",
   "display_name": "Python 3.9.5 64-bit ('crolling': virtualenvwrapper)"
  }
 },
 "nbformat": 4,
 "nbformat_minor": 2,
 "cells": [
  {
   "source": [
    "나의 풀이"
   ],
   "cell_type": "markdown",
   "metadata": {}
  },
  {
   "cell_type": "code",
   "execution_count": null,
   "metadata": {},
   "outputs": [],
   "source": [
    "s = \"Zbcdefg\"\n",
    "def solution(s):\n",
    "    return \"\".join(sorted(s, key=lambda x: x[0],reverse=True))\n",
    "\n",
    "solution(s)\n"
   ]
  },
  {
   "source": [
    "다른 사람 풀이"
   ],
   "cell_type": "markdown",
   "metadata": {}
  },
  {
   "cell_type": "code",
   "execution_count": null,
   "metadata": {},
   "outputs": [],
   "source": [
    "def solution(s):\n",
    "    return \"\".join(sorted(s, reverse=True))\n",
    "\n",
    "# Key를 넣지 않아도 문자열 정렬이 된다."
   ]
  }
 ]
}