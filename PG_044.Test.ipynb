{
 "metadata": {
  "language_info": {
   "codemirror_mode": {
    "name": "ipython",
    "version": 3
   },
   "file_extension": ".py",
   "mimetype": "text/x-python",
   "name": "python",
   "nbconvert_exporter": "python",
   "pygments_lexer": "ipython3",
   "version": "3.9.5"
  },
  "orig_nbformat": 2,
  "kernelspec": {
   "name": "python395jvsc74a57bd02ab1d3f9e0014640d99cf6d832ed8e0625ffbbe36dbcdb7680f5fab989ac3797",
   "display_name": "Python 3.9.5 64-bit"
  },
  "metadata": {
   "interpreter": {
    "hash": "2ab1d3f9e0014640d99cf6d832ed8e0625ffbbe36dbcdb7680f5fab989ac3797"
   }
  }
 },
 "nbformat": 4,
 "nbformat_minor": 2,
 "cells": [
  {
   "source": [
    "프로그래머스/연습문제/전화번호 목록"
   ],
   "cell_type": "markdown",
   "metadata": {}
  },
  {
   "cell_type": "code",
   "execution_count": 11,
   "metadata": {},
   "outputs": [
    {
     "output_type": "stream",
     "name": "stdout",
     "text": [
      "True\n"
     ]
    }
   ],
   "source": [
    "phone_number = [\"113333\",\"115555\",\"345555\",\"555555\", \"345444\"]\n",
    "\n",
    "count = 0\n",
    "for p in phone_number:\n",
    "    comp = []\n",
    "    for i in phone_number:\n",
    "        comp.append(i[:len(p)])\n",
    "    if len(set(comp))!=len(phone_number):\n",
    "        count+=1\n",
    "if count>0:\n",
    "    print(\"False\")\n",
    "else:\n",
    "    print(\"True\")\n",
    "        "
   ]
  },
  {
   "cell_type": "code",
   "execution_count": 23,
   "metadata": {},
   "outputs": [
    {
     "output_type": "execute_result",
     "data": {
      "text/plain": [
       "False"
      ]
     },
     "metadata": {},
     "execution_count": 23
    }
   ],
   "source": [
    "def solution(phone_book):\n",
    "    count = 0\n",
    "    for p in phone_number:\n",
    "        comp = []\n",
    "        for i in phone_number:\n",
    "            comp.append(i[:len(p)])\n",
    "        if len(set(comp))!=len(phone_number):\n",
    "            count+=1\n",
    "    if count>0:\n",
    "        return False\n",
    "    else:\n",
    "        return True\n",
    "\n",
    "## Test Case 11, 14 틀림\n",
    "phone_book = [\"119\", \"97674223\", \"1195524421\"]\t\n",
    "solution(phone_book)"
   ]
  },
  {
   "cell_type": "code",
   "execution_count": null,
   "metadata": {},
   "outputs": [],
   "source": []
  },
  {
   "cell_type": "code",
   "execution_count": 31,
   "metadata": {},
   "outputs": [
    {
     "output_type": "execute_result",
     "data": {
      "text/plain": [
       "False"
      ]
     },
     "metadata": {},
     "execution_count": 31
    }
   ],
   "source": [
    "def solution(phone_book):\n",
    "    for p in phone_book:\n",
    "        comp = []\n",
    "        for i in phone_book:\n",
    "            comp.append(i[:len(p)])\n",
    "        comp.pop(comp.index(p))    \n",
    "        if p in comp:\n",
    "            return False\n",
    "    return True\n",
    "\n",
    "phone_book = [\"119\", \"97674223\", \"1195524421\"]\t\n",
    "solution(phone_book)\n",
    "\n",
    "## 효율성 3,4 시간초과 발생"
   ]
  },
  {
   "cell_type": "code",
   "execution_count": 44,
   "metadata": {},
   "outputs": [
    {
     "output_type": "execute_result",
     "data": {
      "text/plain": [
       "False"
      ]
     },
     "metadata": {},
     "execution_count": 44
    }
   ],
   "source": [
    "def solution(phone_book):\n",
    "    comp = []\n",
    "    for p in phone_book:\n",
    "        for i in phone_book:\n",
    "            comp.append(i[:len(p)])\n",
    "        if comp.count(p)>1:\n",
    "            return False\n",
    "    return True\n",
    "\n",
    "phone_book = [\"119\", \"97674223\", \"1195524421\"]\t\n",
    "solution(phone_book)\n",
    "\n",
    "## count를 사용하였으나 동일하게 효율성 3,4 시간초과 발생"
   ]
  },
  {
   "cell_type": "code",
   "execution_count": 61,
   "metadata": {},
   "outputs": [
    {
     "output_type": "execute_result",
     "data": {
      "text/plain": [
       "False"
      ]
     },
     "metadata": {},
     "execution_count": 61
    }
   ],
   "source": [
    "phone_book = [\"119\", \"97674223\", \"1195524421\"]\t\n",
    "\n",
    "def solution(phone_book):\n",
    "    phone_book.sort()\n",
    "    for p1, p2 in zip(phone_book,phone_book[1:]):\n",
    "        if p2.startswith(p1):\n",
    "            return False\n",
    "    return True\n",
    "\n",
    "phone_book = [\"119\", \"97674223\", \"1195524421\"]\t\n",
    "solution(phone_book)\n",
    "\n",
    "## Startswith와 zip의 활용법에 대해 공부!!"
   ]
  }
 ]
}