{
 "metadata": {
  "language_info": {
   "codemirror_mode": {
    "name": "ipython",
    "version": 3
   },
   "file_extension": ".py",
   "mimetype": "text/x-python",
   "name": "python",
   "nbconvert_exporter": "python",
   "pygments_lexer": "ipython3",
   "version": "3.9.5"
  },
  "orig_nbformat": 2,
  "kernelspec": {
   "name": "python395jvsc74a57bd0b2a729f8c35134cc3b30d6bab9c36c11fed8b199554f94213cb446f0e1dd4432",
   "display_name": "Python 3.9.5 64-bit ('crolling': virtualenvwrapper)"
  }
 },
 "nbformat": 4,
 "nbformat_minor": 2,
 "cells": [
  {
   "source": [
    "나의 풀이"
   ],
   "cell_type": "markdown",
   "metadata": {}
  },
  {
   "cell_type": "code",
   "execution_count": 15,
   "metadata": {},
   "outputs": [],
   "source": [
    "left, right = 13, 17\n",
    "l_left = []\n",
    "l_right= []\n",
    "count = 0\n",
    "for i in range(1,left+1):\n",
    "    if left%i == 0:\n",
    "        l_left.append(i)\n",
    "for i in range(1,right+1):\n",
    "    if right%i == 0:\n",
    "        l_right.append(i)\n",
    "\n",
    "for i in [len(l_left),len(l_right)]:\n",
    "    if i%2 == 0:\n",
    "        count+=i\n",
    "    else:\n",
    "        count-=i"
   ]
  },
  {
   "cell_type": "code",
   "execution_count": 4,
   "metadata": {},
   "outputs": [
    {
     "output_type": "execute_result",
     "data": {
      "text/plain": [
       "0"
      ]
     },
     "metadata": {},
     "execution_count": 4
    }
   ],
   "source": [
    "13%1"
   ]
  }
 ]
}