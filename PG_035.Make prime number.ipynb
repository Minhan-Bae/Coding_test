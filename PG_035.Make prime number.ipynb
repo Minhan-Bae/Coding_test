{
 "metadata": {
  "language_info": {
   "codemirror_mode": {
    "name": "ipython",
    "version": 3
   },
   "file_extension": ".py",
   "mimetype": "text/x-python",
   "name": "python",
   "nbconvert_exporter": "python",
   "pygments_lexer": "ipython3",
   "version": "3.9.2"
  },
  "orig_nbformat": 2,
  "kernelspec": {
   "name": "python392jvsc74a57bd038740d3277777e2cd7c6c2cc9d8addf5118fdf3f82b1b39231fd12aeac8aee8b",
   "display_name": "Python 3.9.2 64-bit"
  }
 },
 "nbformat": 4,
 "nbformat_minor": 2,
 "cells": [
  {
   "source": [
    "프로그래머스/연습문제/소수만들기"
   ],
   "cell_type": "markdown",
   "metadata": {}
  },
  {
   "source": [
    "나의 풀이"
   ],
   "cell_type": "markdown",
   "metadata": {}
  },
  {
   "cell_type": "code",
   "execution_count": 2,
   "metadata": {},
   "outputs": [],
   "source": [
    "# 첫번째 코드\n",
    "nums = [1,2,3,4]\n",
    "\n",
    "# Pre-Processing\n",
    "sums = []       \n",
    "\n",
    "# Data-Processing\n",
    "for i in nums:\n",
    "    for j in nums:\n",
    "        for k in nums:\n",
    "            if i!=j and j!=k and k!=i:\n",
    "                sums.append(i+j+k)\n",
    "set_sums = set(sums)\n",
    "\n",
    "# 3개를 선정하는 데 까지는 성공했으나 소수 판별 부분에서 막힘"
   ]
  },
  {
   "cell_type": "code",
   "execution_count": 18,
   "metadata": {},
   "outputs": [],
   "source": [
    "# N-1 번째 시도\n",
    "\n",
    "sums = []       \n",
    "for i in nums:\n",
    "    for j in nums:\n",
    "        for k in nums:\n",
    "            if i!=j and j!=k and k!=i:\n",
    "                sums.append(i+j+k)\n",
    "set_sums = set(sums)\n",
    "count = 0\n",
    "for i in set(sums):\n",
    "    for j in range(2,min(set(sums))):\n",
    "        if i % j == 0:\n",
    "            set_sums -= set(range(2*j, max(set(sums))+1,j))\n",
    "\n",
    "# 소수 판별 부분에서 막힘"
   ]
  },
  {
   "cell_type": "code",
   "execution_count": 26,
   "metadata": {},
   "outputs": [
    {
     "output_type": "execute_result",
     "data": {
      "text/plain": [
       "4"
      ]
     },
     "metadata": {},
     "execution_count": 26
    }
   ],
   "source": [
    "# 다른사람 풀이 참고..\n",
    "\n",
    "import itertools\n",
    "def solution(nums):\n",
    "    count = 0\n",
    "    sums = itertools.combinations(nums,3)\n",
    "\n",
    "    for i in sums:\n",
    "        num = sum(i)\n",
    "        for j in range(2,num):\n",
    "            if num % j == 0:\n",
    "                break\n",
    "        else:\n",
    "            count +=1\n",
    "    return count\n",
    "nums = [1,2,7,6,4]\t\n",
    "solution(nums)\n",
    "\n",
    "# Itertools의 combination 라이브러리와 for-else문을 적용한 방법"
   ]
  }
 ]
}