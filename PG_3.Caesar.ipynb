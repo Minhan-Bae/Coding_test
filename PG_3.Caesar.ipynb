{
 "metadata": {
  "language_info": {
   "codemirror_mode": {
    "name": "ipython",
    "version": 3
   },
   "file_extension": ".py",
   "mimetype": "text/x-python",
   "name": "python",
   "nbconvert_exporter": "python",
   "pygments_lexer": "ipython3",
   "version": "3.9.5"
  },
  "orig_nbformat": 2,
  "kernelspec": {
   "name": "python395jvsc74a57bd0b2a729f8c35134cc3b30d6bab9c36c11fed8b199554f94213cb446f0e1dd4432",
   "display_name": "Python 3.9.5 64-bit ('crolling': virtualenvwrapper)"
  }
 },
 "nbformat": 4,
 "nbformat_minor": 2,
 "cells": [
  {
   "source": [
    "나의 풀이"
   ],
   "cell_type": "markdown",
   "metadata": {}
  },
  {
   "cell_type": "code",
   "execution_count": 12,
   "metadata": {},
   "outputs": [
    {
     "output_type": "execute_result",
     "data": {
      "text/plain": [
       "'e F d'"
      ]
     },
     "metadata": {},
     "execution_count": 12
    }
   ],
   "source": [
    "def solution(s,n):\n",
    "    cha_low = \"abcdefghijklmnopqrstuvwxyzabcdefghijklmnopqrstuvwxyz\"\n",
    "    cha_high= cha_low.upper()\n",
    "    answer = ''\n",
    "    for i in list(s):\n",
    "        if i in cha_low:\n",
    "            answer+=cha_low[cha_low.index(i)+n]\n",
    "        elif i in cha_high:\n",
    "            answer+=cha_high[cha_high.index(i)+n]\n",
    "        else:\n",
    "            answer+=i\n",
    "    return answer\n",
    "s = \"a B z\"\n",
    "n = 4\n",
    "solution(s,n)"
   ]
  }
 ]
}