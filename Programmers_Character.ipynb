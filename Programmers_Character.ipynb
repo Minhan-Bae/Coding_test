{
 "metadata": {
  "language_info": {
   "codemirror_mode": {
    "name": "ipython",
    "version": 3
   },
   "file_extension": ".py",
   "mimetype": "text/x-python",
   "name": "python",
   "nbconvert_exporter": "python",
   "pygments_lexer": "ipython3",
   "version": "3.9.2"
  },
  "orig_nbformat": 2,
  "kernelspec": {
   "name": "python392jvsc74a57bd038740d3277777e2cd7c6c2cc9d8addf5118fdf3f82b1b39231fd12aeac8aee8b",
   "display_name": "Python 3.9.2 64-bit"
  }
 },
 "nbformat": 4,
 "nbformat_minor": 2,
 "cells": [
  {
   "cell_type": "code",
   "execution_count": 65,
   "metadata": {},
   "outputs": [
    {
     "output_type": "execute_result",
     "data": {
      "text/plain": [
       "False"
      ]
     },
     "metadata": {},
     "execution_count": 65
    }
   ],
   "source": [
    "# 1st Code\n",
    "def solution(s):\n",
    "    count = 0\n",
    "    list_s = list(s)\n",
    "    if len(list_s) in [4,6]:\n",
    "        for i in list_s:\n",
    "            if ord(i) < 48:\n",
    "                count += 1\n",
    "            if ord(i) > 57:\n",
    "                count += 1\n",
    "        if count > 0:\n",
    "            return False\n",
    "        else: return True\n",
    "    else: return False\n",
    "\n",
    "# Code test\n",
    "s = \"a234322\"\n",
    "solution(s)"
   ]
  }
 ]
}