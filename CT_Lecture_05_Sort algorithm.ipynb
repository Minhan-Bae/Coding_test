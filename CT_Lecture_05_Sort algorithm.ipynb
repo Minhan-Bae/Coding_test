{
 "metadata": {
  "language_info": {
   "codemirror_mode": {
    "name": "ipython",
    "version": 3
   },
   "file_extension": ".py",
   "mimetype": "text/x-python",
   "name": "python",
   "nbconvert_exporter": "python",
   "pygments_lexer": "ipython3",
   "version": "3.9.5"
  },
  "orig_nbformat": 2,
  "kernelspec": {
   "name": "python395jvsc74a57bd02ab1d3f9e0014640d99cf6d832ed8e0625ffbbe36dbcdb7680f5fab989ac3797",
   "display_name": "Python 3.9.5 64-bit"
  },
  "metadata": {
   "interpreter": {
    "hash": "2ab1d3f9e0014640d99cf6d832ed8e0625ffbbe36dbcdb7680f5fab989ac3797"
   }
  }
 },
 "nbformat": 4,
 "nbformat_minor": 2,
 "cells": [
  {
   "source": [
    "이것이 코딩테스트다/정렬 알고리즘\n",
    "\n",
    "이 코딩테스트다/정렬 알고리즘\n",
    "\n",
    "ㆍ 정렬(Sorting)이란 데이터를 특정한 기준에 따라 순서대로 나열하는 것\n",
    "\n",
    "ㆍ 일반적으로 문제 상황에 따라서 적절한 정렬 알고리즘이 공식처럼 사용된다."
   ],
   "cell_type": "markdown",
   "metadata": {}
  },
  {
   "source": [
    "    선택 정렬\n",
    "\n",
    "ㆍ 처리되지 않은 데이터 중에서 가장 작은 데이터를 선택해 맨 앞에 있는 데이터와 바꾸는 것을 반복"
   ],
   "cell_type": "markdown",
   "metadata": {}
  },
  {
   "cell_type": "code",
   "execution_count": 2,
   "metadata": {},
   "outputs": [
    {
     "output_type": "stream",
     "name": "stdout",
     "text": [
      "[0, 1, 2, 3, 4, 5, 6, 7, 8, 9]\n"
     ]
    }
   ],
   "source": [
    "# 선택 정렬 소스\n",
    "\n",
    "array = [7, 5, 9, 0, 3, 1, 6, 2, 4, 8]\n",
    "\n",
    "for i in range(len(array)):\n",
    "    min_index = i\n",
    "    # 가장 작은 원소의 인덱스\n",
    "    for j in range(i+1, len(array)):\n",
    "        if array[min_index] > array[j]:\n",
    "            min_index = j\n",
    "    array[i], array[min_index] = array[min_index], array[i]\n",
    "    # Swap 연산\n",
    "\n",
    "print(array)"
   ]
  },
  {
   "source": [
    "    선택 정렬의 시간 복잡도\n",
    "\n",
    "ㆍ 선택 정렬은 N번 만큼 가장 작은 수를 찾아서 맨 앞으로 보낸다.\n",
    "ㆍ 구현 방식에 따른 전체 연산 횟수는 (N^2+N-2)/2로 표현 가능한데, 빅 오 표기법에 따라 O(N^2) 이다."
   ],
   "cell_type": "markdown",
   "metadata": {}
  },
  {
   "source": [],
   "cell_type": "markdown",
   "metadata": {}
  },
  {
   "source": [
    "    삽입 정렬\n",
    "ㆍ 처리되지 않은 데이터를 하나씩 골라 적절한 위치에 삽입한다."
   ],
   "cell_type": "markdown",
   "metadata": {}
  },
  {
   "source": [
    "array = 7, 5, 9, 0, 3, 1, 6, 2, 4, 8 인 경우,\n",
    "\n",
    "\n",
    "        1. 첫번째 데이터 '7'은 그 자체로 정렬이 되어있다고 가정하고, 두번째 데이터인 '5'가 어떤 위치로 들어갈지 판단한다. '7'의 왼쪽으로 들어가거나 오른쪽으로 들어가는 두 경우만 존재한다.\n",
    "\n",
    "        2. 이어서 '9'가 어떤 위치로 들어갈 지 판단한다.\n",
    "        \n",
    "        3. 이어서 '0'이 어떤 위치로 들어갈지 판단한다.\n",
    "        ...\n",
    "\n",
    "        "
   ],
   "cell_type": "markdown",
   "metadata": {}
  },
  {
   "cell_type": "code",
   "execution_count": 4,
   "metadata": {},
   "outputs": [
    {
     "output_type": "stream",
     "name": "stdout",
     "text": [
      "[0, 1, 2, 3, 4, 5, 6, 7, 8, 9]\n"
     ]
    }
   ],
   "source": [
    "# 삽입 정렬 소스\n",
    "\n",
    "array = [7, 5, 9, 0, 3, 1, 6, 2, 4, 8]\n",
    "\n",
    "for i in range(1, len(array)):\n",
    "    for j in range(i, 0, -1):\n",
    "    # index i 부터 1까지 1씩 감소하며 반복\n",
    "        if array[j] < array[j-1]:\n",
    "        # 한 칸씩 왼쪽으로 이동\n",
    "            array[j], array[j-1] = array[j-1], array[j]\n",
    "        else:\n",
    "        # 해당 원소보다 작은 데이터를 만나면 멈춤\n",
    "            break\n",
    "\n",
    "print(array)"
   ]
  },
  {
   "source": [
    "    삽입 정렬의 시간 복잡도\n",
    "\n",
    "ㆍ 삽입 정렬의 시간복잡도는 O(N^2)이며, 선택 정렬과 마찬가지로 반복문이 두번 중첩되어 사용된다.\n",
    "\n",
    "ㆍ 삽입 정렬은 현재 리스트의 데이터가 거의 정렬되어 있는 상태라면 매우 빠르게 동작한다.\n",
    "\n",
    "- 최선의 경우 O(N)의 시간 복잡도를 가진다"
   ],
   "cell_type": "markdown",
   "metadata": {}
  },
  {
   "source": [],
   "cell_type": "markdown",
   "metadata": {}
  },
  {
   "source": [
    "    퀵 정렬\n",
    "\n",
    "ㆍ 기준 데이터를 설정하고 그 기준보다 큰 데이터와 작은 데이터의 위치를 바꾸는 방법이다.\n",
    "\n",
    "ㆍ 일반적인 상황에서 가장 많이 사용되는 정렬 알고리즘 중 하나이다.\n",
    "\n",
    "ㆍ 병합 정렬과 더불어 대부분의 프로그래밍 언어의 정렬 라이브러리의 근간이 되는 알고리즘이다.\n",
    "\n",
    "ㆍ 가장 기본적인 퀵 정렬은 첫번째 데이터를 기준 데이터(Pivot)로 설정한다."
   ],
   "cell_type": "markdown",
   "metadata": {}
  },
  {
   "source": [
    "array = 5, 7, 9, 0, 3, 1, 6, 2, 4, 8 인 경우,\n",
    "\n",
    "    1. 가창 첫번째 데이터(피벗) 보다 큰 데이터를 왼쪽에서 부터 선택, 작은 데이터를 오른쪽에서 부터 선택하여 위치를 변경한다.\n",
    "\n",
    "    2. 변경된 위치가 엇갈리는 경우, '피벗'과 '작은 데이터'의 위치를 서로 변경한다.\n",
    "\n",
    "    3. [분할 완료] 피벗을 기준으로 데이터 묶음을 나누는 작업인 분할(Divide)가 수행된다.\n",
    "\n",
    "    4. [왼쪽 데이터 묶음 정렬] 왼쪽에 있는 데이터에 대해 마찬가지로 정렬을 수행한다.\n",
    "\n",
    "    5. [오른쪽 데이터 묶음 정렬] 오른쪽에 있는 데이터에 대해 마찬가지로 정렬을 수행한다."
   ],
   "cell_type": "markdown",
   "metadata": {}
  },
  {
   "source": [
    "    퀵 정렬의 시간 복잡도\n",
    "\n",
    "ㆍ 이상적인 경우 분할이 절반씩 일어난다면 전체 연산 횟수로 O(NlogN)를 기대할 수 있다.\n",
    "- 너비*높이 = N*logN\n",
    "\n",
    "ㆍ 하지만 최악의 경우 O(N^2)의 시간 복잡도를 가진다."
   ],
   "cell_type": "markdown",
   "metadata": {}
  },
  {
   "cell_type": "code",
   "execution_count": 8,
   "metadata": {},
   "outputs": [
    {
     "output_type": "stream",
     "name": "stdout",
     "text": [
      "[0, 1, 2, 3, 4, 5, 6, 7, 8, 9]\n"
     ]
    }
   ],
   "source": [
    "# 퀵 정렬 소스(기본)\n",
    "\n",
    "array = [5, 7, 9, 0, 3, 1, 6, 2, 4, 8]\n",
    "\n",
    "def quick_sort(array, start, end):\n",
    "    if start >= end:\n",
    "    # 원소가 1개인 경우\n",
    "        return\n",
    "    pivot = start\n",
    "    # 피벗을 첫번째 원소로 지정\n",
    "    left = start + 1\n",
    "    right = end\n",
    "    while (left <= right):\n",
    "        while(left <= end and array[left] <= array[pivot]):\n",
    "        # 피벗보다 큰 데이터를 찾을 때 까지 반복\n",
    "            left += 1\n",
    "        while(right > start and array[right] >= array[pivot]):\n",
    "            right -=1\n",
    "        # 피벗보다 작은 데이터를 찾을 때 까지 반복\n",
    "        if (left > right):\n",
    "        # 엇갈려 있다면, 작은 데이터와 피벗을 교체\n",
    "            array[right], array[pivot] = array[pivot], array[right]\n",
    "        else:\n",
    "        # 엇갈리지 않았다면 작은 데이터와 큰 데이터를 교체\n",
    "            array[right], array[left] = array[left], array[right]\n",
    "\n",
    "    # 분할 이후 왼쪽 부분과 오른쪽 부분에서 각각 정렬 수행\n",
    "    quick_sort(array, start, right-1)\n",
    "    quick_sort(array, right+1, end)\n",
    "\n",
    "quick_sort(array, 0, len(array)-1)\n",
    "print(array)"
   ]
  },
  {
   "cell_type": "code",
   "execution_count": 10,
   "metadata": {},
   "outputs": [
    {
     "output_type": "stream",
     "name": "stdout",
     "text": [
      "[0, 1, 2, 3, 4, 5, 6, 7, 8, 9]\n"
     ]
    }
   ],
   "source": [
    "# 퀵 정렬 소스(응용)\n",
    "\n",
    "array = [5, 7, 9, 0, 3, 1, 6, 2, 4, 8]\n",
    "\n",
    "def quick_sort(array):\n",
    "    if len(array) <= 1:\n",
    "    # 리스트가 하나 이하의 원소만을 담고 있다면 종료\n",
    "        return array\n",
    "    pivot = array[0] # 첫번째 원소는 피벗\n",
    "    tail = array[1:] # 피벗을 제외한 리스트\n",
    "\n",
    "    left_side = [x for x in tail if x <= pivot]\n",
    "    right_side= [x for x in tail if x > pivot]\n",
    "\n",
    "    # 분할 이후 왼쪽 부분과 오른쪽 부분에서 각 정렬을 수행하고, 전체 리스트 반환\n",
    "    return quick_sort(left_side)+[pivot]+quick_sort(right_side)\n",
    "\n",
    "print(quick_sort(array))\n",
    "# 리스트 slicing과 comprehend를 이용하여 코드 압축"
   ]
  },
  {
   "source": [],
   "cell_type": "markdown",
   "metadata": {}
  },
  {
   "source": [
    "    계수 정렬\n",
    "\n",
    "ㆍ 특정한 조건이 부합할 때만 사용할 수 있지만 매우 빠르게 동작하는 정렬 알고리즘이다.\n",
    "\n",
    "- 계수 정렬은 데이터의 크기 범위가 제한되어 정수 형태로 표현할 수 있을 때 사용 가능하다.\n",
    "\n",
    "ㆍ 데이터 개수가 N, 데이터(양수) 중 최대값이 K 일때, 최악의 경우에도 수행 시간 O(N+K)를 보장한다."
   ],
   "cell_type": "markdown",
   "metadata": {}
  },
  {
   "source": [
    "    1. 데이터를 하나씩 확인하며 데이터 값과 동일한 인덱스의 데이터를 1씩 증가시킨다.\n",
    "    ...\n",
    "    N-1. 최종 리스트에는 각 데이터가 몇번씩 등장했는지 그 횟수가 기록된다.\n",
    "\n",
    "    N. 결과를 확인할 때는 리스트의 첫번째 데이터부터 하나씩 그 값만큼 반복하여 인덱스를 출력한다."
   ],
   "cell_type": "markdown",
   "metadata": {}
  },
  {
   "cell_type": "code",
   "execution_count": 13,
   "metadata": {},
   "outputs": [
    {
     "output_type": "stream",
     "name": "stdout",
     "text": [
      "0 0 1 1 2 2 3 4 5 5 6 7 8 9 9 "
     ]
    }
   ],
   "source": [
    "# 계수 정렬 소스\n",
    "\n",
    "array = [7, 5, 9, 0, 3, 1, 6, 2, 9, 1, 4, 8, 0, 5, 2]\n",
    "# 모든 원소의 값이 0보다 크거나 같다고 가정\n",
    "\n",
    "cnt = [0] * (max(array)+1)\n",
    "# 모든 범위를 포함하는 영 리스트 선언\n",
    "\n",
    "for i in range(len(array)):\n",
    "    cnt[array[i]] += 1\n",
    "    # 각 데이터에 해당하는 인덱스 값 증가\n",
    "\n",
    "for i in range(len(cnt)): \n",
    "    # 리스트에 기록된 정렬 정보 확인\n",
    "    for j in range(cnt[i]):\n",
    "        print(i,end=' ')\n",
    "        # 띄어쓰기를 구분으로 등장한 횟수만큼 인덱스 출력"
   ]
  },
  {
   "source": [
    "    계수 정렬의 시간복잡도\n",
    "\n",
    "ㆍ 계수 정렬의 시간 복잡도와 공간 복잡도는 모두 O(N+K)이다.\n",
    "\n",
    "ㆍ  계수 정렬은 때에 따라서 심각한 비효율성을 초래할 수 있다.\n",
    "\n",
    "- ex) 데이터가 0과 999,999로 단 2개만 존재하는 경우\n",
    "\n",
    "ㆍ 계수 정렬은 동일한 값을 가지는 데이터가 여러 개 등장할 때 효과적으로 사용할 수 있다.\n",
    "\n",
    "- 성적의 경우 100점을 맞은 학생이 여러명일 수 있기 때문에 계수 정렬이 효과적이다."
   ],
   "cell_type": "markdown",
   "metadata": {}
  }
 ]
}