{
 "metadata": {
  "language_info": {
   "codemirror_mode": {
    "name": "ipython",
    "version": 3
   },
   "file_extension": ".py",
   "mimetype": "text/x-python",
   "name": "python",
   "nbconvert_exporter": "python",
   "pygments_lexer": "ipython3",
   "version": "3.9.5"
  },
  "orig_nbformat": 2,
  "kernelspec": {
   "name": "python395jvsc74a57bd02ab1d3f9e0014640d99cf6d832ed8e0625ffbbe36dbcdb7680f5fab989ac3797",
   "display_name": "Python 3.9.5 64-bit"
  },
  "metadata": {
   "interpreter": {
    "hash": "2ab1d3f9e0014640d99cf6d832ed8e0625ffbbe36dbcdb7680f5fab989ac3797"
   }
  }
 },
 "nbformat": 4,
 "nbformat_minor": 2,
 "cells": [
  {
   "source": [
    "이것이 코딩테스트다/정렬 알고리즘\n",
    "\n",
    "이 코딩테스트다/정렬 알고리즘\n",
    "\n",
    "ㆍ 정렬(Sorting)이란 데이터를 특정한 기준에 따라 순서대로 나열하는 것\n",
    "\n",
    "ㆍ 일반적으로 문제 상황에 따라서 적절한 정렬 알고리즘이 공식처럼 사용된다."
   ],
   "cell_type": "markdown",
   "metadata": {}
  },
  {
   "source": [
    "    선택 정렬\n",
    "\n",
    "ㆍ 처리되지 않은 데이터 중에서 가장 작은 데이터를 선택해 맨 앞에 있는 데이터와 바꾸는 것을 반복"
   ],
   "cell_type": "markdown",
   "metadata": {}
  },
  {
   "cell_type": "code",
   "execution_count": 2,
   "metadata": {},
   "outputs": [
    {
     "output_type": "stream",
     "name": "stdout",
     "text": [
      "[0, 1, 2, 3, 4, 5, 6, 7, 8, 9]\n"
     ]
    }
   ],
   "source": [
    "# 선택 정렬 소스\n",
    "\n",
    "array = [7, 5, 9, 0, 3, 1, 6, 2, 4, 8]\n",
    "\n",
    "for i in range(len(array)):\n",
    "    min_index = i\n",
    "    # 가장 작은 원소의 인덱스\n",
    "    for j in range(i+1, len(array)):\n",
    "        if array[min_index] > array[j]:\n",
    "            min_index = j\n",
    "    array[i], array[min_index] = array[min_index], array[i]\n",
    "    # Swap 연산\n",
    "\n",
    "print(array)"
   ]
  }
 ]
}