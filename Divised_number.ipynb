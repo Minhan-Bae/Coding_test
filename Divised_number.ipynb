# 나누어 떨어지는 숫자 배열

arr = [3,2,6]
divisor = 10
# answer = []

def solution(arr, divisor):
    answer = []
    for i in arr:
        if i%divisor == 0:
            answer.append(i)
    if answer == []:
        answer.append(-1)
    return sorted(answer)

solution(arr,divisor)
