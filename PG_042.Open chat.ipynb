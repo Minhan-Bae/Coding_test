{
 "metadata": {
  "language_info": {
   "codemirror_mode": {
    "name": "ipython",
    "version": 3
   },
   "file_extension": ".py",
   "mimetype": "text/x-python",
   "name": "python",
   "nbconvert_exporter": "python",
   "pygments_lexer": "ipython3",
   "version": "3.9.5"
  },
  "orig_nbformat": 2,
  "kernelspec": {
   "name": "crolling",
   "display_name": "Python 3.9.5 64-bit"
  }
 },
 "nbformat": 4,
 "nbformat_minor": 2,
 "cells": [
  {
   "source": [
    "프로그래머스/연습문제/오픈채팅방"
   ],
   "cell_type": "markdown",
   "metadata": {}
  },
  {
   "cell_type": "code",
   "execution_count": 1,
   "metadata": {},
   "outputs": [],
   "source": [
    "record = [\"Enter uid1234 Muzi\", \"Enter uid4567 Prodo\",\"Leave uid1234\",\"Enter uid1234 Prodo\",\"Change uid4567 Ryan\"]"
   ]
  },
  {
   "source": [
    "# # Record 분류 별 리스트업\n",
    "# array = []\n",
    "# for i in record:\n",
    "#     array.append(i.split(\" \"))"
   ],
   "cell_type": "code",
   "metadata": {},
   "execution_count": 2,
   "outputs": []
  },
  {
   "source": [
    "# # 유저 ID sort하기\n",
    "# ID = []\n",
    "# for i in array:\n",
    "#     ID.append(i[1])\n",
    "    \n",
    "# list(set(ID))"
   ],
   "cell_type": "code",
   "metadata": {},
   "execution_count": 3,
   "outputs": []
  },
  {
   "cell_type": "code",
   "execution_count": 21,
   "metadata": {},
   "outputs": [
    {
     "output_type": "execute_result",
     "data": {
      "text/plain": [
       "['Prodo님이 들어왔습니다.', 'Ryan님이 들어왔습니다.', 'Prodo님이 나갔습니다.', 'Prodo님이 들어왔습니다.']"
      ]
     },
     "metadata": {},
     "execution_count": 21
    }
   ],
   "source": [
    "# solution 화\n",
    "def solution(record):\n",
    "    array = []\n",
    "    ID = []\n",
    "    name = {}\n",
    "# Record 분류 및 ID sort하기\n",
    "    for i in record:\n",
    "        array.append(i.split(' '))\n",
    "        ID.append(array[-1][1])\n",
    "    list(set(ID))\n",
    "\n",
    "    # ID의 최종 닉네임 확인하기\n",
    "    for i in array:\n",
    "        if i[0] in [\"Enter\",\"Change\"] and i[1] in ID:\n",
    "            name[i[1]]=i[-1]\n",
    "    answer = []\n",
    "    # 최종 출력\n",
    "    for i in array:\n",
    "        if i[1] in name.keys():\n",
    "            if i[0] in \"Enter\":\n",
    "                answer.append(\"{}님이 들어왔습니다.\".format(name[i[1]]))\n",
    "            elif i[0] in \"Leave\":\n",
    "                answer.append(\"{}님이 나갔습니다.\".format(name[i[1]]))\n",
    "    return answer\n",
    "\n",
    "# Code test\n",
    "solution(record)\n",
    "\n",
    "## 시간 초과 발생.. (78.1/100.0)"
   ]
  },
  {
   "cell_type": "code",
   "execution_count": 34,
   "metadata": {},
   "outputs": [
    {
     "output_type": "execute_result",
     "data": {
      "text/plain": [
       "['Prodo님이 들어왔습니다.', 'Ryan님이 들어왔습니다.', 'Prodo님이 나갔습니다.', 'Prodo님이 들어왔습니다.']"
      ]
     },
     "metadata": {},
     "execution_count": 34
    }
   ],
   "source": [
    "def solution(record):\n",
    "    array = []\n",
    "    name = {}\n",
    "    for i in record:\n",
    "        array.append(i.split(' '))\n",
    "    for i in array:\n",
    "        if i[0] in [\"Enter\",\"Change\"]:\n",
    "            name[i[1]]=i[-1]\n",
    "    answer = []\n",
    "    for i in array:\n",
    "        if i[1] in name.keys():\n",
    "            if i[0] in \"Enter\":\n",
    "                answer.append(\"{}님이 들어왔습니다.\".format(name[i[1]]))\n",
    "            elif i[0] in \"Leave\":\n",
    "                answer.append(\"{}님이 나갔습니다.\".format(name[i[1]]))\n",
    "    return answer\n",
    "\n",
    "# Code test\n",
    "solution(record)\n",
    "\n",
    "## 성공!! 굳이 ID를 정리할 필요 없이 필요한 부분만을 쏙 빼서 할 수 있는 듯"
   ]
  },
  {
   "cell_type": "code",
   "execution_count": 11,
   "metadata": {},
   "outputs": [
    {
     "output_type": "execute_result",
     "data": {
      "text/plain": [
       "['Prodo님이 들어왔습니다.', 'Ryan님이 들어왔습니다.', 'Prodo님이 나갔습니다.', 'Prodo님이 들어왔습니다.']"
      ]
     },
     "metadata": {},
     "execution_count": 11
    }
   ],
   "source": [
    "# 다른사람 풀이에서 배운 startswith를 사용해본 코드\n",
    "\n",
    "\n",
    "def solution(record):\n",
    "    user_id = {i.split()[1]:i.split()[-1] for i in record if i.startswith('Enter') or i.startswith('Change')}\n",
    "# record 의 요소 i가 'Enter' 또는 'Change'로 시작하면 i의 2번째 요소인 user_id와 -1번째 요소인 name을 추출\n",
    "    return [f'{user_id[i.split()[1]]}님이 들어왔습니다.' if i.startswith('Enter') else f'{user_id[i.split()[1]]}님이 나갔습니다.' for i in record if not i.startswith('Change')]\n",
    "\n",
    "# Code test\n",
    "record = [\"Enter uid1234 Muzi\", \"Enter uid4567 Prodo\",\"Leave uid1234\",\"Enter uid1234 Prodo\",\"Change uid4567 Ryan\"]\n",
    "solution(record)"
   ]
  },
  {
   "cell_type": "code",
   "execution_count": null,
   "metadata": {},
   "outputs": [],
   "source": []
  }
 ]
}