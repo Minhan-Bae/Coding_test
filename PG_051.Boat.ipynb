{
 "metadata": {
  "language_info": {
   "codemirror_mode": {
    "name": "ipython",
    "version": 3
   },
   "file_extension": ".py",
   "mimetype": "text/x-python",
   "name": "python",
   "nbconvert_exporter": "python",
   "pygments_lexer": "ipython3",
   "version": "3.9.5"
  },
  "orig_nbformat": 2,
  "kernelspec": {
   "name": "python395jvsc74a57bd01e91a7d8e4864e2473b15ec9625848ab694e742002a8329d532293588fb63e50",
   "display_name": "Python 3.9.5 64-bit"
  }
 },
 "nbformat": 4,
 "nbformat_minor": 2,
 "cells": [
  {
   "source": [
    "프로그래머스/연습문제/구명보트"
   ],
   "cell_type": "markdown",
   "metadata": {}
  },
  {
   "cell_type": "code",
   "execution_count": 29,
   "metadata": {},
   "outputs": [
    {
     "output_type": "execute_result",
     "data": {
      "text/plain": [
       "3"
      ]
     },
     "metadata": {},
     "execution_count": 29
    }
   ],
   "source": [
    "# List만을 이용한 경우\n",
    "\n",
    "people, limit = [70, 80, 50], 100\n",
    "def solution(people,limit):\n",
    "    people.sort()\n",
    "    cnt = 0\n",
    "    while len(people)>1:\n",
    "        cnt+=1\n",
    "        if people[0]+people[-1]>limit:\n",
    "            people.pop()\n",
    "        else:\n",
    "            people=people[1:]\n",
    "            people.pop()\n",
    "    if len(people)==1:\n",
    "        cnt+=1\n",
    "    return cnt\n",
    "\n",
    "solution(people,limit)\n",
    "\n",
    "## 효율성 부분에서 실패(pop(0)이 시간복잡도를 증가시킴)"
   ]
  },
  {
   "cell_type": "code",
   "execution_count": 9,
   "metadata": {},
   "outputs": [
    {
     "output_type": "execute_result",
     "data": {
      "text/plain": [
       "3"
      ]
     },
     "metadata": {},
     "execution_count": 9
    }
   ],
   "source": [
    "# Deque를 이용하여 처리\n",
    "\n",
    "from collections import deque\n",
    "people, limit = [70, 50, 80, 50], 100\n",
    "\n",
    "def solution(people, limit):\n",
    "    p = deque()\n",
    "    cnt = 0\n",
    "    for i in sorted(people):\n",
    "        p.append(i)\n",
    "\n",
    "    while len(p) > 1:\n",
    "        if p[0]+p[-1]<=limit:\n",
    "            p.popleft()\n",
    "        p.pop()\n",
    "        cnt+=1\n",
    "    return cnt+len(p)\n",
    "\n",
    "solution(people,limit)"
   ]
  },
  {
   "cell_type": "code",
   "execution_count": 11,
   "metadata": {},
   "outputs": [
    {
     "output_type": "execute_result",
     "data": {
      "text/plain": [
       "3"
      ]
     },
     "metadata": {},
     "execution_count": 11
    }
   ],
   "source": [
    "# 다른사람 풀이..\n",
    "\n",
    "def solution(people, limit):\n",
    "    answer = 0\n",
    "    people.sort()\n",
    "\n",
    "    a = 0               # 첫번째 원소 번호\n",
    "    b = len(people)-1   # 마지막 원소 번호\n",
    "    # Sort를 진행하였기에 a<b 인 상황\n",
    "\n",
    "    while a < b:\n",
    "        if people[b]+people[a] <= limit:    # 보트에 마지막 원소(제일 큰 값)을 태웠음에도 첫번째 원소 탑승이 가능할 때\n",
    "            a +=1   # 다음 번호로 넘어감\n",
    "        b -=1                               # 보트의 마지막 원소를 태웠으니 그 앞의 원소를 불러옴\n",
    "    return len(people) - a\n",
    "\n",
    "solution(people,limit)"
   ]
  }
 ]
}