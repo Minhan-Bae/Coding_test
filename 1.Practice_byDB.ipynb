{
 "metadata": {
  "language_info": {
   "codemirror_mode": {
    "name": "ipython",
    "version": 3
   },
   "file_extension": ".py",
   "mimetype": "text/x-python",
   "name": "python",
   "nbconvert_exporter": "python",
   "pygments_lexer": "ipython3",
   "version": "3.9.5"
  },
  "orig_nbformat": 2,
  "kernelspec": {
   "name": "crolling",
   "display_name": "Python 3.9.5 64-bit"
  }
 },
 "nbformat": 4,
 "nbformat_minor": 2,
 "cells": [
  {
   "source": [
    "이것이 코딩테스트다 예제문제: 거스름돈"
   ],
   "cell_type": "markdown",
   "metadata": {}
  },
  {
   "source": [
    "나의 풀이"
   ],
   "cell_type": "markdown",
   "metadata": {}
  },
  {
   "cell_type": "code",
   "execution_count": 5,
   "metadata": {},
   "outputs": [],
   "source": [
    "# Input value\n",
    "Reserve = 1260                      # Reserve: 거스름돈\n",
    "\n",
    "# Output value: 최소한의 Coin 개수를 사용하여 Reserve 값 만족 / 코인은 500,100,50,10 단위\n",
    "    # Ex) 500+500+100+100+50+10 = 1260 / n = 6\n",
    "\n",
    "# Pre-Processing\n",
    "Coin = [500, 100, 50, 10]           # 대상이 되는 코인 리스트 설정\n",
    "result = 0                          # 결과값 초기 설정\n",
    "\n",
    "# Data-Processing\n",
    "for i in Coin:                      # 가장 큰 Coin 부터\n",
    "    while i <= Reserve:             # 거스름돈의 값이 i 보다 작거나 같을 때 까지\n",
    "        Reserve -= i                    # 거스름돈에서 i를 계속 빼기\n",
    "        result += 1                     # 해당 과정을 거치는 동안 동전 갯수 더하기"
   ]
  },
  {
   "source": [
    "책의 풀이"
   ],
   "cell_type": "markdown",
   "metadata": {}
  },
  {
   "cell_type": "code",
   "execution_count": 9,
   "metadata": {},
   "outputs": [],
   "source": [
    "# Input value\n",
    "Reserve = 1260\n",
    "\n",
    "# Pre-Processing\n",
    "Coin = [500, 100, 50, 10]\n",
    "result = 0\n",
    "\n",
    "# Data-Processing\n",
    "for coin in Coin:\n",
    "    result += Reserve // coin        # 해당 화폐를 거슬러 줄 수 있는 동전의 갯수 세기\n",
    "    Reserve %= coin                  # 동전으로 거스름돈을 나누었을 때 나머지를 피드백"
   ]
  }
 ]
}