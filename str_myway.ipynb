{
 "metadata": {
  "language_info": {
   "codemirror_mode": {
    "name": "ipython",
    "version": 3
   },
   "file_extension": ".py",
   "mimetype": "text/x-python",
   "name": "python",
   "nbconvert_exporter": "python",
   "pygments_lexer": "ipython3",
   "version": "3.9.5"
  },
  "orig_nbformat": 2,
  "kernelspec": {
   "name": "python395jvsc74a57bd0b2a729f8c35134cc3b30d6bab9c36c11fed8b199554f94213cb446f0e1dd4432",
   "display_name": "Python 3.9.5 64-bit ('crolling': virtualenvwrapper)"
  }
 },
 "nbformat": 4,
 "nbformat_minor": 2,
 "cells": [
  {
   "source": [
    "나의 풀이"
   ],
   "cell_type": "markdown",
   "metadata": {}
  },
  {
   "cell_type": "code",
   "execution_count": 34,
   "metadata": {},
   "outputs": [
    {
     "output_type": "execute_result",
     "data": {
      "text/plain": [
       "['sun', 'bed', 'car']"
      ]
     },
     "metadata": {},
     "execution_count": 34
    }
   ],
   "source": [
    "# 1차 시도\n",
    "strings = [\"sun\", \"bed\", \"car\"]\t\n",
    "n = 1\n",
    "\n",
    "sort = {}\n",
    "answer = {}\n",
    "for i in range(len(strings)):\n",
    "    sort[i]=strings[i]\n",
    "answer = dict(sorted(sort.items(),key=lambda x : x[0]))\n",
    "list(answer.values())\n",
    "# 각 원소의 n번째를 기준으로 dictionary 생성 후 시도하려 했지만 실패"
   ]
  },
  {
   "cell_type": "code",
   "execution_count": 27,
   "metadata": {},
   "outputs": [
    {
     "output_type": "execute_result",
     "data": {
      "text/plain": [
       "['abcd', 'abce', 'cdx']"
      ]
     },
     "metadata": {},
     "execution_count": 27
    }
   ],
   "source": [
    "# 2차 시도\n",
    "strings = [\"abce\", \"abcd\", \"cdx\"]\t\n",
    "n = 1\n",
    "strings.sort()\n",
    "sorted(strings, key=lambda string: string[n])\n",
    "# 먼저 전체적인 정렬한 후, 문자열의 n번째 글자를 기준으로 재정렬"
   ]
  },
  {
   "cell_type": "code",
   "execution_count": 32,
   "metadata": {},
   "outputs": [
    {
     "output_type": "execute_result",
     "data": {
      "text/plain": [
       "['abcd', 'abce', 'cdx']"
      ]
     },
     "metadata": {},
     "execution_count": 32
    }
   ],
   "source": [
    "# 최종 단계\n",
    "def solution(strings,n):\n",
    "    return sorted(strings, key=lambda string: string[n]+string[:])\n",
    "\n",
    "# Code test\n",
    "strings = [\"abce\", \"abcd\", \"cdx\"]\t\t\n",
    "n = 1\n",
    "solution(strings,n)"
   ]
  }
 ]
}