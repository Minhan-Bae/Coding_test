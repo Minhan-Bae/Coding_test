{
 "metadata": {
  "language_info": {
   "codemirror_mode": {
    "name": "ipython",
    "version": 3
   },
   "file_extension": ".py",
   "mimetype": "text/x-python",
   "name": "python",
   "nbconvert_exporter": "python",
   "pygments_lexer": "ipython3",
   "version": "3.9.5"
  },
  "orig_nbformat": 2,
  "kernelspec": {
   "name": "crolling",
   "display_name": "Python 3.9.5 64-bit"
  }
 },
 "nbformat": 4,
 "nbformat_minor": 2,
 "cells": [
  {
   "source": [
    "이것이 코딩테스트다 실전문제 3: 숫자 카드 게임"
   ],
   "cell_type": "markdown",
   "metadata": {}
  },
  {
   "source": [
    "나의 풀이"
   ],
   "cell_type": "markdown",
   "metadata": {}
  },
  {
   "cell_type": "code",
   "execution_count": null,
   "metadata": {},
   "outputs": [],
   "source": [
    "# Input value\n",
    "Card = [3,1,2,4,1,4,2,2,2]          # 카드 배열\n",
    "N, M = 3, 3                         # 카드를 놓는 N x M 형태\n",
    "\n",
    "# Output value : 형태의 각 행마다 최소값을 가지는 카드 중 가장 큰 값\n",
    "\n",
    "# Pre-Processing\n",
    "min_value = []                      # 각 행에 포함된 값 중 가장 낮은 값 출력 Input value\n",
    "Card = [3,1,2,4,1,4,2,2,2]          # 카드 배열\n",
    "N, M = 3, 3                         # 카드를 놓는 N x M 형태\n",
    "\n",
    "# Output value : 형태의 각 행마다 최소값을 가지는 카드 중 가장 큰 값\n",
    "\n",
    "# Pre-Processing\n",
    "min_value = []                      \n",
    "\n",
    "# Data-Processing\n",
    "for i in range(N):                  # 각 행에 포함된 값 중 가장 낮은 값들의 배열 생성\n",
    "    min_value.append(min(Card[i:M]))\n",
    "\n",
    "print(max(min_value))               # 그 중 가장 큰 값 출력"
   ]
  },
  {
   "source": [
    "책의 풀이"
   ],
   "cell_type": "markdown",
   "metadata": {}
  },
  {
   "cell_type": "code",
   "execution_count": null,
   "metadata": {},
   "outputs": [],
   "source": [
    "# Input value\n",
    "N, M = map(int, input().split())\n",
    "\n",
    "# Pre-Processing\n",
    "result = 0\n",
    "\n",
    "# Data-Processing\n",
    "for i in range(N):\n",
    "    data = list(map(int, input().split()))\n",
    "    min_value = min(data)\n",
    "    result = max(result, min_value)\n",
    "\n",
    "print(result)\n",
    "\n",
    "# 책의 풀이의 경우 한줄씩 값을 입력하여 각 행의 최소값을 리스트화 하고 그 중 최대값을 구하는 방식. 그러므로 나의 풀이와는 상이"
   ]
  }
 ]
}