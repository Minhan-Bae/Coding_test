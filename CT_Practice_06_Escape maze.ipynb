{
 "metadata": {
  "language_info": {
   "codemirror_mode": {
    "name": "ipython",
    "version": 3
   },
   "file_extension": ".py",
   "mimetype": "text/x-python",
   "name": "python",
   "nbconvert_exporter": "python",
   "pygments_lexer": "ipython3",
   "version": "3.9.5"
  },
  "orig_nbformat": 2,
  "kernelspec": {
   "name": "python395jvsc74a57bd01e91a7d8e4864e2473b15ec9625848ab694e742002a8329d532293588fb63e50",
   "display_name": "Python 3.9.5 64-bit"
  }
 },
 "nbformat": 4,
 "nbformat_minor": 2,
 "cells": [
  {
   "source": [
    "이것이 코딩테스트다 예제문제: 미로 탈출"
   ],
   "cell_type": "markdown",
   "metadata": {}
  },
  {
   "source": [
    "입력 조건\n",
    "\n",
    "- 첫째 줄에 두 정수 N,M(4<=M, M<=200)이 주어진다.\n",
    "\n",
    "- 다음 N개의 줄에는 각각 M개의 정수(0 혹은 1)로 미로의 정보가 주어진다.\n",
    "\n",
    "- 각각의 수들은 공백 없이 붙어서 입력으로 제시된다. 또한 마지막 칸은 항상 1 이다.\n",
    "\n",
    "출력 조건\n",
    "\n",
    "- 첫째 줄에 최소 이동칸의 개수를 출력한다."
   ],
   "cell_type": "markdown",
   "metadata": {}
  },
  {
   "source": [
    "1. 처음에 (1,1)의 위치에서 시작한다.\n",
    "\n",
    "2. (1,1) 좌표에서 상,하,좌,우로 탐색을 진행하면 바로 옆 노드인 (1,2) 위치의 노드를 방문하게 되고 새롭게 방문하는 (1,2) 노드의 값을 2로 바꾼다.\n",
    "\n",
    "3. 마찬가지로 BFS를 계속 수행하면 결과적으로 다음과 같이 최단 경로의 값들이 1씩 증가하는 형태로 변경된다."
   ],
   "cell_type": "markdown",
   "metadata": {}
  },
  {
   "cell_type": "code",
   "execution_count": 10,
   "metadata": {},
   "outputs": [
    {
     "output_type": "execute_result",
     "data": {
      "text/plain": [
       "10"
      ]
     },
     "metadata": {},
     "execution_count": 10
    }
   ],
   "source": [
    "road = [[1,0,1,0,1,0],[1,1,1,1,1,1],[0,0,0,0,0,1],[1,1,1,1,1,1],[1,1,1,1,1,1]]\n",
    "n,m = 5,6\n",
    "\n",
    "from collections import deque\n",
    "\n",
    "# 이동할 네 가지 방향 정의(상, 하, 좌, 우)\n",
    "dx = [-1, 1, 0, 0]\n",
    "dy = [0, 0, -1, 1]\n",
    "\n",
    "# BFS 메서드 정의\n",
    "def bfs(x, y):\n",
    "    # 큐(Queue) 구현을 위해 deque 라이브러리 사용\n",
    "    queue = deque()\n",
    "    queue.append((x,y))\n",
    "    # 큐가 빌 때까지 반복하기\n",
    "    while queue:\n",
    "        x,y = queue.popleft()\n",
    "        for i in range(4):\n",
    "            nx = x + dx[i]\n",
    "            ny = y + dy[i]\n",
    "            # 미로 공간을 벗어난 경우 무시\n",
    "            if nx < 0 or nx >= n or ny < 0 or ny >=m:\n",
    "                continue\n",
    "            # 벽인 경우 무시\n",
    "            if road[nx][ny] == 0:\n",
    "                continue\n",
    "            # 해당 노드를 처음 방문하는 경우에만 최단 거리 기록\n",
    "            if road[nx][ny] == 1:\n",
    "                road[nx][ny] = road[x][y]+1\n",
    "                queue.append((nx,ny))\n",
    "    # 가장 오른쪽 아래까지의 최단 거리 반환\n",
    "    return road[n-1][m-1]\n",
    "\n",
    "bfs(0,0)"
   ]
  }
 ]
}